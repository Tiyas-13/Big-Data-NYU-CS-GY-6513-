{
 "cells": [
  {
   "cell_type": "markdown",
   "id": "a022b593",
   "metadata": {},
   "source": [
    "## Installing requirements and connecting to the database"
   ]
  },
  {
   "cell_type": "code",
   "execution_count": 4,
   "id": "e76739b2",
   "metadata": {},
   "outputs": [
    {
     "name": "stdout",
     "output_type": "stream",
     "text": [
      "Requirement already satisfied: psycopg2-binary in /Users/Tiyas/opt/anaconda3/lib/python3.9/site-packages (2.9.5)\n",
      "Requirement already satisfied: psycopg2 in /Users/Tiyas/opt/anaconda3/lib/python3.9/site-packages (2.9.5)\n"
     ]
    }
   ],
   "source": [
    "#Installing requirements\n",
    "!pip install psycopg2-binary\n",
    "!pip install psycopg2"
   ]
  },
  {
   "cell_type": "code",
   "execution_count": 5,
   "id": "815836e4",
   "metadata": {},
   "outputs": [],
   "source": [
    "#Suppressing warnings\n",
    "import warnings\n",
    "warnings.filterwarnings('ignore')\n",
    "warnings.simplefilter('ignore')"
   ]
  },
  {
   "cell_type": "code",
   "execution_count": 6,
   "id": "fc4ee55c",
   "metadata": {},
   "outputs": [],
   "source": [
    "import psycopg2\n",
    "import json"
   ]
  },
  {
   "cell_type": "code",
   "execution_count": 7,
   "id": "694470cd",
   "metadata": {},
   "outputs": [],
   "source": [
    "#Connecting to database\n",
    "with open('/Users/Tiyas/Desktop/db_cred.json','r') as j:\n",
    "    cred = json.load(j)"
   ]
  },
  {
   "cell_type": "code",
   "execution_count": 8,
   "id": "c56d8bae",
   "metadata": {},
   "outputs": [
    {
     "name": "stdout",
     "output_type": "stream",
     "text": [
      "Connecting to the PostgreSQL database...\n"
     ]
    }
   ],
   "source": [
    "print('Connecting to the PostgreSQL database...')\n",
    "conn = psycopg2.connect(\n",
    "    host=cred[\"host\"],\n",
    "    port=cred['port'],\n",
    "    user=cred[\"user\"],\n",
    "    password=cred[\"password\"])"
   ]
  },
  {
   "cell_type": "code",
   "execution_count": 9,
   "id": "0e022b30",
   "metadata": {},
   "outputs": [],
   "source": [
    "cur = conn.cursor()"
   ]
  },
  {
   "cell_type": "code",
   "execution_count": 10,
   "id": "99c0cb5e",
   "metadata": {},
   "outputs": [
    {
     "name": "stdout",
     "output_type": "stream",
     "text": [
      "PostgreSQL database version:\n"
     ]
    }
   ],
   "source": [
    "# execute a statement\n",
    "print('PostgreSQL database version:')\n",
    "cur.execute('SELECT version()')"
   ]
  },
  {
   "cell_type": "code",
   "execution_count": 11,
   "id": "427302e1",
   "metadata": {},
   "outputs": [
    {
     "name": "stdout",
     "output_type": "stream",
     "text": [
      "('PostgreSQL 15.2 (Debian 15.2-1.pgdg110+1) on aarch64-unknown-linux-gnu, compiled by gcc (Debian 10.2.1-6) 10.2.1 20210110, 64-bit',)\n"
     ]
    }
   ],
   "source": [
    "# display the PostgreSQL database server version\n",
    "db_version = cur.fetchone()\n",
    "print(db_version)"
   ]
  },
  {
   "cell_type": "code",
   "execution_count": null,
   "id": "33427e20",
   "metadata": {},
   "outputs": [],
   "source": [
    "#Codes to drop tables if jupyter notebook has to be run serially repeatedly\n",
    "query = \"\"\"DROP TABLE IF EXISTS authors\"\"\"\n",
    "cur.execute(query)\n",
    "conn.commit()"
   ]
  },
  {
   "cell_type": "code",
   "execution_count": null,
   "id": "7326c07e",
   "metadata": {},
   "outputs": [],
   "source": [
    "query = \"\"\"DROP TABLE IF EXISTS publishers CASCADE\"\"\"\n",
    "cur.execute(query)\n",
    "conn.commit()"
   ]
  },
  {
   "cell_type": "code",
   "execution_count": null,
   "id": "2b28805d",
   "metadata": {},
   "outputs": [],
   "source": [
    "query = \"\"\"DROP TABLE IF EXISTS books\"\"\"\n",
    "cur.execute(query)\n",
    "conn.commit()"
   ]
  },
  {
   "cell_type": "code",
   "execution_count": null,
   "id": "228555cb",
   "metadata": {},
   "outputs": [],
   "source": [
    "query = \"\"\"DROP TABLE IF EXISTS books_authors\"\"\"\n",
    "cur.execute(query)\n",
    "conn.commit()"
   ]
  },
  {
   "cell_type": "markdown",
   "id": "26a373cd",
   "metadata": {},
   "source": [
    "## Reading and cleaning data"
   ]
  },
  {
   "cell_type": "code",
   "execution_count": null,
   "id": "90d0967d",
   "metadata": {},
   "outputs": [],
   "source": [
    "#using dataframes as a transition tool from csv to database\n",
    "import pandas as pd\n",
    "df = pd.read_csv('/Users/Tiyas/Desktop/books.csv')"
   ]
  },
  {
   "cell_type": "code",
   "execution_count": null,
   "id": "ba9587f0",
   "metadata": {
    "scrolled": true
   },
   "outputs": [],
   "source": [
    "#we can visualise the numbers of rows and columns in the dataset\n",
    "df"
   ]
  },
  {
   "cell_type": "code",
   "execution_count": null,
   "id": "441e614b",
   "metadata": {},
   "outputs": [],
   "source": [
    "#checking for null rows\n",
    "df2 = df[df.isna().any(axis=1)]"
   ]
  },
  {
   "cell_type": "code",
   "execution_count": null,
   "id": "36ca12c7",
   "metadata": {},
   "outputs": [],
   "source": [
    "df2"
   ]
  },
  {
   "cell_type": "code",
   "execution_count": null,
   "id": "02d184bb",
   "metadata": {},
   "outputs": [],
   "source": [
    "#dropping rows with null values since all columns were null\n",
    "df.dropna(inplace=True)"
   ]
  },
  {
   "cell_type": "code",
   "execution_count": null,
   "id": "dc572f77",
   "metadata": {},
   "outputs": [],
   "source": [
    "#cleaning data for insertion into database\n",
    "df.rename(columns = {'  num_pages':'num_pages'}, inplace = True)\n",
    "df['title'] = df['title'].str.replace(\"\\'\", \"\\'\\'\")\n",
    "df['publisher'] = df['publisher'].str.replace(\"\\'\", \"\\'\\'\")\n",
    "df['authors'] = df['authors'].str.replace(\"\\'\", \"\\'\\'\")"
   ]
  },
  {
   "cell_type": "code",
   "execution_count": null,
   "id": "3862b9a2",
   "metadata": {},
   "outputs": [],
   "source": [
    "#splitting multiple authors for the same book into different rows and creating a new dataframe\n",
    "df_split_authors = pd.DataFrame(columns=['bookID','title','author','average_rating','isbn','isbn13','language_code','num_pages'\n",
    "                               ,'ratings_count','text_reviews_count','publication_date','publisher'])\n",
    "indx = 0\n",
    "for index, row in df.iterrows():\n",
    "    authors = row['authors'].split(\"/\")\n",
    "    for a in authors:\n",
    "        df_split_authors.loc[indx] = pd.Series({\n",
    "          'bookID':row['bookID'],\n",
    "          'title':row['title'],\n",
    "          'author': str(a),\n",
    "          'average_rating': row['average_rating'],\n",
    "          'isbn': row['isbn13'],\n",
    "          'isbn13': row['isbn'],\n",
    "          'language_code': row['language_code'],\n",
    "          'num_pages': row['num_pages'],\n",
    "          'ratings_count': row['ratings_count'],\n",
    "          'text_reviews_count': row['text_reviews_count'],\n",
    "          'publication_date': row['publication_date'],\n",
    "          'publisher': row['publisher']\n",
    "        })\n",
    "        indx = indx + 1"
   ]
  },
  {
   "cell_type": "markdown",
   "id": "20f23070",
   "metadata": {},
   "source": [
    "## Code to create three tables - books, authors and publisers and one junction table - books_authors"
   ]
  },
  {
   "cell_type": "markdown",
   "id": "80589f16",
   "metadata": {},
   "source": [
    "### Creating authors table"
   ]
  },
  {
   "cell_type": "code",
   "execution_count": null,
   "id": "4cd24608",
   "metadata": {},
   "outputs": [],
   "source": [
    "create_author_table = '''create table authors(\n",
    "id SERIAL PRIMARY KEY,\n",
    "name VARCHAR(500),\n",
    "CONSTRAINT name_unique UNIQUE (name));'''"
   ]
  },
  {
   "cell_type": "code",
   "execution_count": null,
   "id": "b5e94d4a",
   "metadata": {},
   "outputs": [],
   "source": [
    "cur.execute(create_author_table)\n",
    "conn.commit()"
   ]
  },
  {
   "cell_type": "code",
   "execution_count": null,
   "id": "7ca7b46d",
   "metadata": {},
   "outputs": [],
   "source": [
    "authors = list(set(df_split_authors['author']))"
   ]
  },
  {
   "cell_type": "code",
   "execution_count": null,
   "id": "77194ff3",
   "metadata": {},
   "outputs": [],
   "source": [
    "for a in authors:\n",
    "    query = \"\"\"INSERT INTO authors (name) VALUES \"\"\"\n",
    "    query+= str('(\\'' + str(a) + '\\')')\n",
    "    cur.execute(query)\n",
    "conn.commit()"
   ]
  },
  {
   "cell_type": "code",
   "execution_count": null,
   "id": "eb6aab58",
   "metadata": {},
   "outputs": [],
   "source": [
    "query = \"select * from authors\"\n",
    "cur.execute(query)\n",
    "all_authors = pd.read_sql(query,conn)\n",
    "conn.commit()"
   ]
  },
  {
   "cell_type": "code",
   "execution_count": null,
   "id": "beebfe81",
   "metadata": {},
   "outputs": [],
   "source": [
    "all_authors"
   ]
  },
  {
   "cell_type": "markdown",
   "id": "6b576954",
   "metadata": {},
   "source": [
    "### Creating publishers table"
   ]
  },
  {
   "cell_type": "code",
   "execution_count": null,
   "id": "4a8c035e",
   "metadata": {},
   "outputs": [],
   "source": [
    "publishers = list(set(df['publisher']))"
   ]
  },
  {
   "cell_type": "code",
   "execution_count": null,
   "id": "6610cb3e",
   "metadata": {},
   "outputs": [],
   "source": [
    "create_publisher_table = '''create table publishers(\n",
    "id SERIAL PRIMARY KEY,\n",
    "name VARCHAR(1000),\n",
    "CONSTRAINT p_name_unique UNIQUE (name));'''"
   ]
  },
  {
   "cell_type": "code",
   "execution_count": null,
   "id": "93f581c4",
   "metadata": {},
   "outputs": [],
   "source": [
    "cur.execute(create_publisher_table)\n",
    "conn.commit()"
   ]
  },
  {
   "cell_type": "code",
   "execution_count": null,
   "id": "33780632",
   "metadata": {},
   "outputs": [],
   "source": [
    "for p in publishers:\n",
    "    query = \"\"\"INSERT INTO publishers (name) VALUES \"\"\"\n",
    "    query+= str('(\\'' + str(p) + '\\')')\n",
    "    cur.execute(query)\n",
    "conn.commit()"
   ]
  },
  {
   "cell_type": "code",
   "execution_count": null,
   "id": "f65dfe8e",
   "metadata": {},
   "outputs": [],
   "source": [
    "query = \"select * from publishers\"\n",
    "cur.execute(query)\n",
    "all_publishers = pd.read_sql(query,conn)\n",
    "conn.commit()"
   ]
  },
  {
   "cell_type": "code",
   "execution_count": null,
   "id": "a74f6949",
   "metadata": {},
   "outputs": [],
   "source": [
    "all_publishers"
   ]
  },
  {
   "cell_type": "markdown",
   "id": "00d4f964",
   "metadata": {},
   "source": [
    "### Creating books table"
   ]
  },
  {
   "cell_type": "code",
   "execution_count": null,
   "id": "33de9c78",
   "metadata": {},
   "outputs": [],
   "source": [
    "create_books_table = \"\"\"create table books(\n",
    "    id DECIMAL,\n",
    "    title VARCHAR(2000),\n",
    "    average_rating DECIMAL,\n",
    "    isbn VARCHAR(1000),\n",
    "    isbn13 VARCHAR(1000),\n",
    "    language_code VARCHAR(100),\n",
    "    num_pages DECIMAL,\n",
    "    ratings_count DECIMAL,\n",
    "    text_reviews_count DECIMAL,\n",
    "    publication_date DATE, \n",
    "    publisher_id INTEGER,\n",
    "    CONSTRAINT fk_publisher FOREIGN KEY(publisher_id) REFERENCES publishers(id)\n",
    ");\"\"\""
   ]
  },
  {
   "cell_type": "code",
   "execution_count": null,
   "id": "85583a59",
   "metadata": {},
   "outputs": [],
   "source": [
    "cur.execute(create_books_table)\n",
    "conn.commit()"
   ]
  },
  {
   "cell_type": "code",
   "execution_count": null,
   "id": "8672da3f",
   "metadata": {},
   "outputs": [],
   "source": [
    "for index, row in df.iterrows():\n",
    "    query = \"\"\"INSERT INTO books (id, title, average_rating, isbn, isbn13,\n",
    "       language_code, num_pages, ratings_count, text_reviews_count,\n",
    "       publication_date, publisher_id) values \"\"\"\n",
    "    q = \"select id from publishers where name=\\'\" + str(row['publisher']) + \"\\'\"\n",
    "    cur.execute(q)\n",
    "    p_id = pd.read_sql(q,conn)\n",
    "    p_id = p_id['id'].tolist()[0]\n",
    "    conn.commit()\n",
    "    query += str('(' + str(row['bookID']) + ',\\'' + str(row['title']) + '\\',' + \n",
    "                 str(row['average_rating']) + ',\\'' + str(row['isbn']) + '\\',' + str(row['isbn13']) + \n",
    "                 ',\\'' + str(row['language_code']) + '\\',' +  str(row['num_pages']) + ',' + str(row['ratings_count']) + ',' + str(row['text_reviews_count'])\n",
    "                 + ',\\'' + str(row['publication_date']) + '\\',' + str(p_id) + ')')\n",
    "    cur.execute(query)\n",
    "conn.commit()"
   ]
  },
  {
   "cell_type": "code",
   "execution_count": null,
   "id": "bede38fb",
   "metadata": {},
   "outputs": [],
   "source": [
    "query = \"select * from books\"\n",
    "cur.execute(query)\n",
    "all_books = pd.read_sql(query,conn)\n",
    "conn.commit()"
   ]
  },
  {
   "cell_type": "code",
   "execution_count": null,
   "id": "d4fe9116",
   "metadata": {},
   "outputs": [],
   "source": [
    "all_books"
   ]
  },
  {
   "cell_type": "markdown",
   "id": "487b13ca",
   "metadata": {},
   "source": [
    "### Creating junction table books_authors"
   ]
  },
  {
   "cell_type": "code",
   "execution_count": null,
   "id": "3ff9aa9c",
   "metadata": {},
   "outputs": [],
   "source": [
    "create_join_table = '''create table books_authors(\n",
    "bookID DECIMAL,\n",
    "authorID INTEGER,\n",
    "PRIMARY KEY (bookID, authorID)\n",
    ");'''\n",
    "cur.execute(create_join_table)\n",
    "conn.commit()"
   ]
  },
  {
   "cell_type": "code",
   "execution_count": null,
   "id": "66c1cfe7",
   "metadata": {},
   "outputs": [],
   "source": [
    "for index, row in df_split_authors.iterrows():\n",
    "    q = \"select id from authors where name=\\'\" + str(row['author']) + \"\\'\"\n",
    "    cur.execute(q)\n",
    "    a_id = pd.read_sql(q,conn)\n",
    "    a_id = a_id['id'].tolist()[0]\n",
    "    conn.commit()\n",
    "    query = \"\"\"INSERT INTO books_authors (bookID, authorID) VALUES \"\"\"\n",
    "    query+= str('(' + str(row['bookID']) + ',' + str(a_id) + ') ON CONFLICT DO NOTHING')\n",
    "    cur.execute(query)"
   ]
  },
  {
   "cell_type": "code",
   "execution_count": null,
   "id": "89b3e0e8",
   "metadata": {},
   "outputs": [],
   "source": [
    "q = \"select * from books_authors\"\n",
    "cur.execute(q)\n",
    "a_id = pd.read_sql(q,conn)\n",
    "a_id"
   ]
  },
  {
   "cell_type": "markdown",
   "id": "074582e8",
   "metadata": {},
   "source": [
    "## Answering SQL Questions"
   ]
  },
  {
   "cell_type": "markdown",
   "id": "43d2c3dc",
   "metadata": {},
   "source": [
    "### What are the oldest 5 books in this dataset?"
   ]
  },
  {
   "cell_type": "code",
   "execution_count": null,
   "id": "3ff47b2f",
   "metadata": {},
   "outputs": [],
   "source": [
    "sql = \"select * from books order by publication_date limit 5;\"\n",
    "cur.execute(sql)\n",
    "oldest_books = pd.read_sql(sql, conn)"
   ]
  },
  {
   "cell_type": "code",
   "execution_count": null,
   "id": "af0efb04",
   "metadata": {},
   "outputs": [],
   "source": [
    "oldest_books"
   ]
  },
  {
   "cell_type": "markdown",
   "id": "0a776280",
   "metadata": {},
   "source": [
    "### Which 5 authors have the highest number of ratings?"
   ]
  },
  {
   "cell_type": "code",
   "execution_count": null,
   "id": "96bcca1c",
   "metadata": {},
   "outputs": [],
   "source": [
    "sql = \"select authors.name, sum(books.ratings_count) as num_ratings from books join books_authors on books.id = books_authors.bookID join authors on books_authors.authorID = authors.id group by authors.name order by num_ratings desc limit 5\"\n",
    "cur.execute(sql)\n",
    "highest_rated_authors = pd.read_sql(sql, conn)"
   ]
  },
  {
   "cell_type": "code",
   "execution_count": null,
   "id": "31df130b",
   "metadata": {},
   "outputs": [],
   "source": [
    "highest_rated_authors"
   ]
  },
  {
   "cell_type": "markdown",
   "id": "350121d7",
   "metadata": {},
   "source": [
    "### Which 5 language codes have the highest rating average?"
   ]
  },
  {
   "cell_type": "code",
   "execution_count": null,
   "id": "2fb80c8d",
   "metadata": {},
   "outputs": [],
   "source": [
    "sql = \"select language_code, avg(average_rating) as a from books group by language_code order by a desc limit 5\"\n",
    "cur.execute(sql)\n",
    "language_codes_highest_average = pd.read_sql(sql, conn)"
   ]
  },
  {
   "cell_type": "code",
   "execution_count": null,
   "id": "e53dce96",
   "metadata": {},
   "outputs": [],
   "source": [
    "language_codes_highest_average"
   ]
  },
  {
   "cell_type": "code",
   "execution_count": null,
   "id": "4394998f",
   "metadata": {},
   "outputs": [],
   "source": [
    "sql = \"\"\"with temp_table (total_ratings, total_ratings_count, language_code) as \n",
    "(select sum(books.ratings_count*books.average_rating) as total_ratings, \n",
    "sum(books.ratings_count) as total_ratings_count, books.language_code FROM books \n",
    "group by language_code) select language_code, total_ratings/total_ratings_count as total_avg from tempTable \n",
    "WHERE total_ratings_count != 0 order by total_avg desc limit 5;\n",
    "\"\"\"\n",
    "cur.execute(sql)\n",
    "language_codes_highest_average = pd.read_sql(sql, conn)"
   ]
  },
  {
   "cell_type": "code",
   "execution_count": null,
   "id": "cec3bd40",
   "metadata": {},
   "outputs": [],
   "source": [
    "language_codes_highest_average"
   ]
  },
  {
   "cell_type": "markdown",
   "id": "6981169e",
   "metadata": {},
   "source": [
    "### Which publishers publish in the highest number of different languages?"
   ]
  },
  {
   "cell_type": "code",
   "execution_count": null,
   "id": "eb452b52",
   "metadata": {},
   "outputs": [],
   "source": [
    "sql = \"select publishers.name, count(distinct(books.language_code)) as num_languages from books join publishers on books.publisher_id = publishers.id group by publishers.name order by num_languages desc limit 1;\"\n",
    "cur.execute(sql)\n",
    "publisher_with_highest_languages = pd.read_sql(sql, conn)"
   ]
  },
  {
   "cell_type": "code",
   "execution_count": null,
   "id": "27f5dfa2",
   "metadata": {},
   "outputs": [],
   "source": [
    "publisher_with_highest_languages"
   ]
  },
  {
   "cell_type": "code",
   "execution_count": null,
   "id": "9cf89924",
   "metadata": {},
   "outputs": [],
   "source": []
  }
 ],
 "metadata": {
  "kernelspec": {
   "display_name": "Python 3 (ipykernel)",
   "language": "python",
   "name": "python3"
  },
  "language_info": {
   "codemirror_mode": {
    "name": "ipython",
    "version": 3
   },
   "file_extension": ".py",
   "mimetype": "text/x-python",
   "name": "python",
   "nbconvert_exporter": "python",
   "pygments_lexer": "ipython3",
   "version": "3.9.13"
  }
 },
 "nbformat": 4,
 "nbformat_minor": 5
}
