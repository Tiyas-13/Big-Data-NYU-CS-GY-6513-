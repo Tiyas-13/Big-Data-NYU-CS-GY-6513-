{
 "cells": [
  {
   "cell_type": "markdown",
   "id": "f43edce1",
   "metadata": {},
   "source": [
    "### Creating MongoDB Connection and Importing Dataset"
   ]
  },
  {
   "cell_type": "code",
   "execution_count": 42,
   "id": "6d4f64d3",
   "metadata": {},
   "outputs": [],
   "source": [
    "from pymongo import MongoClient\n",
    "client = MongoClient('localhost',27017) ## or MongoClient(\"localhost:27\")\n",
    "db = client.bigdata"
   ]
  },
  {
   "cell_type": "code",
   "execution_count": 43,
   "id": "39af8b47",
   "metadata": {},
   "outputs": [],
   "source": [
    "import pandas as pd\n",
    "df = pd.read_csv('/Users/Tiyas/Desktop/Big Data/HW2_td2355/books.csv',skip_blank_lines=True)"
   ]
  },
  {
   "cell_type": "code",
   "execution_count": 44,
   "id": "ab0da575",
   "metadata": {},
   "outputs": [
    {
     "data": {
      "text/html": [
       "<div>\n",
       "<style scoped>\n",
       "    .dataframe tbody tr th:only-of-type {\n",
       "        vertical-align: middle;\n",
       "    }\n",
       "\n",
       "    .dataframe tbody tr th {\n",
       "        vertical-align: top;\n",
       "    }\n",
       "\n",
       "    .dataframe thead th {\n",
       "        text-align: right;\n",
       "    }\n",
       "</style>\n",
       "<table border=\"1\" class=\"dataframe\">\n",
       "  <thead>\n",
       "    <tr style=\"text-align: right;\">\n",
       "      <th></th>\n",
       "      <th>bookID</th>\n",
       "      <th>title</th>\n",
       "      <th>authors</th>\n",
       "      <th>average_rating</th>\n",
       "      <th>isbn</th>\n",
       "      <th>isbn13</th>\n",
       "      <th>language_code</th>\n",
       "      <th>num_pages</th>\n",
       "      <th>ratings_count</th>\n",
       "      <th>text_reviews_count</th>\n",
       "      <th>publication_date</th>\n",
       "      <th>publisher</th>\n",
       "      <th>dummy</th>\n",
       "    </tr>\n",
       "  </thead>\n",
       "  <tbody>\n",
       "    <tr>\n",
       "      <th>0</th>\n",
       "      <td>1</td>\n",
       "      <td>Harry Potter and the Half-Blood Prince (Harry ...</td>\n",
       "      <td>J.K. Rowling/Mary GrandPré</td>\n",
       "      <td>4.57</td>\n",
       "      <td>439785960</td>\n",
       "      <td>9780439785969</td>\n",
       "      <td>eng</td>\n",
       "      <td>652</td>\n",
       "      <td>2095690</td>\n",
       "      <td>27591</td>\n",
       "      <td>9/16/2006</td>\n",
       "      <td>Scholastic Inc.</td>\n",
       "      <td>NaN</td>\n",
       "    </tr>\n",
       "    <tr>\n",
       "      <th>1</th>\n",
       "      <td>2</td>\n",
       "      <td>Harry Potter and the Order of the Phoenix (Har...</td>\n",
       "      <td>J.K. Rowling/Mary GrandPré</td>\n",
       "      <td>4.49</td>\n",
       "      <td>439358078</td>\n",
       "      <td>9780439358071</td>\n",
       "      <td>eng</td>\n",
       "      <td>870</td>\n",
       "      <td>2153167</td>\n",
       "      <td>29221</td>\n",
       "      <td>9/1/2004</td>\n",
       "      <td>Scholastic Inc.</td>\n",
       "      <td>NaN</td>\n",
       "    </tr>\n",
       "    <tr>\n",
       "      <th>2</th>\n",
       "      <td>4</td>\n",
       "      <td>Harry Potter and the Chamber of Secrets (Harry...</td>\n",
       "      <td>J.K. Rowling</td>\n",
       "      <td>4.42</td>\n",
       "      <td>439554896</td>\n",
       "      <td>9780439554893</td>\n",
       "      <td>eng</td>\n",
       "      <td>352</td>\n",
       "      <td>6333</td>\n",
       "      <td>244</td>\n",
       "      <td>11/1/2003</td>\n",
       "      <td>Scholastic</td>\n",
       "      <td>NaN</td>\n",
       "    </tr>\n",
       "    <tr>\n",
       "      <th>3</th>\n",
       "      <td>5</td>\n",
       "      <td>Harry Potter and the Prisoner of Azkaban (Harr...</td>\n",
       "      <td>J.K. Rowling/Mary GrandPré</td>\n",
       "      <td>4.56</td>\n",
       "      <td>043965548X</td>\n",
       "      <td>9780439655484</td>\n",
       "      <td>eng</td>\n",
       "      <td>435</td>\n",
       "      <td>2339585</td>\n",
       "      <td>36325</td>\n",
       "      <td>5/1/2004</td>\n",
       "      <td>Scholastic Inc.</td>\n",
       "      <td>NaN</td>\n",
       "    </tr>\n",
       "    <tr>\n",
       "      <th>4</th>\n",
       "      <td>8</td>\n",
       "      <td>Harry Potter Boxed Set  Books 1-5 (Harry Potte...</td>\n",
       "      <td>J.K. Rowling/Mary GrandPré</td>\n",
       "      <td>4.78</td>\n",
       "      <td>439682584</td>\n",
       "      <td>9780439682589</td>\n",
       "      <td>eng</td>\n",
       "      <td>2690</td>\n",
       "      <td>41428</td>\n",
       "      <td>164</td>\n",
       "      <td>9/13/2004</td>\n",
       "      <td>Scholastic</td>\n",
       "      <td>NaN</td>\n",
       "    </tr>\n",
       "    <tr>\n",
       "      <th>...</th>\n",
       "      <td>...</td>\n",
       "      <td>...</td>\n",
       "      <td>...</td>\n",
       "      <td>...</td>\n",
       "      <td>...</td>\n",
       "      <td>...</td>\n",
       "      <td>...</td>\n",
       "      <td>...</td>\n",
       "      <td>...</td>\n",
       "      <td>...</td>\n",
       "      <td>...</td>\n",
       "      <td>...</td>\n",
       "      <td>...</td>\n",
       "    </tr>\n",
       "    <tr>\n",
       "      <th>11122</th>\n",
       "      <td>45631</td>\n",
       "      <td>Expelled from Eden: A William T. Vollmann Reader</td>\n",
       "      <td>William T. Vollmann/Larry McCaffery/Michael He...</td>\n",
       "      <td>4.06</td>\n",
       "      <td>1560254416</td>\n",
       "      <td>9781560254416</td>\n",
       "      <td>eng</td>\n",
       "      <td>512</td>\n",
       "      <td>156</td>\n",
       "      <td>20</td>\n",
       "      <td>12/21/2004</td>\n",
       "      <td>Da Capo Press</td>\n",
       "      <td>NaN</td>\n",
       "    </tr>\n",
       "    <tr>\n",
       "      <th>11123</th>\n",
       "      <td>45633</td>\n",
       "      <td>You Bright and Risen Angels</td>\n",
       "      <td>William T. Vollmann</td>\n",
       "      <td>4.08</td>\n",
       "      <td>140110879</td>\n",
       "      <td>9780140110876</td>\n",
       "      <td>eng</td>\n",
       "      <td>635</td>\n",
       "      <td>783</td>\n",
       "      <td>56</td>\n",
       "      <td>12/1/1988</td>\n",
       "      <td>Penguin Books</td>\n",
       "      <td>NaN</td>\n",
       "    </tr>\n",
       "    <tr>\n",
       "      <th>11124</th>\n",
       "      <td>45634</td>\n",
       "      <td>The Ice-Shirt (Seven Dreams #1)</td>\n",
       "      <td>William T. Vollmann</td>\n",
       "      <td>3.96</td>\n",
       "      <td>140131965</td>\n",
       "      <td>9780140131963</td>\n",
       "      <td>eng</td>\n",
       "      <td>415</td>\n",
       "      <td>820</td>\n",
       "      <td>95</td>\n",
       "      <td>8/1/1993</td>\n",
       "      <td>Penguin Books</td>\n",
       "      <td>NaN</td>\n",
       "    </tr>\n",
       "    <tr>\n",
       "      <th>11125</th>\n",
       "      <td>45639</td>\n",
       "      <td>Poor People</td>\n",
       "      <td>William T. Vollmann</td>\n",
       "      <td>3.72</td>\n",
       "      <td>60878827</td>\n",
       "      <td>9780060878825</td>\n",
       "      <td>eng</td>\n",
       "      <td>434</td>\n",
       "      <td>769</td>\n",
       "      <td>139</td>\n",
       "      <td>2/27/2007</td>\n",
       "      <td>Ecco</td>\n",
       "      <td>NaN</td>\n",
       "    </tr>\n",
       "    <tr>\n",
       "      <th>11126</th>\n",
       "      <td>45641</td>\n",
       "      <td>Las aventuras de Tom Sawyer</td>\n",
       "      <td>Mark Twain</td>\n",
       "      <td>3.91</td>\n",
       "      <td>8497646983</td>\n",
       "      <td>9788497646987</td>\n",
       "      <td>spa</td>\n",
       "      <td>272</td>\n",
       "      <td>113</td>\n",
       "      <td>12</td>\n",
       "      <td>5/28/2006</td>\n",
       "      <td>Edimat Libros</td>\n",
       "      <td>NaN</td>\n",
       "    </tr>\n",
       "  </tbody>\n",
       "</table>\n",
       "<p>11127 rows × 13 columns</p>\n",
       "</div>"
      ],
      "text/plain": [
       "       bookID                                              title  \\\n",
       "0           1  Harry Potter and the Half-Blood Prince (Harry ...   \n",
       "1           2  Harry Potter and the Order of the Phoenix (Har...   \n",
       "2           4  Harry Potter and the Chamber of Secrets (Harry...   \n",
       "3           5  Harry Potter and the Prisoner of Azkaban (Harr...   \n",
       "4           8  Harry Potter Boxed Set  Books 1-5 (Harry Potte...   \n",
       "...       ...                                                ...   \n",
       "11122   45631   Expelled from Eden: A William T. Vollmann Reader   \n",
       "11123   45633                        You Bright and Risen Angels   \n",
       "11124   45634                    The Ice-Shirt (Seven Dreams #1)   \n",
       "11125   45639                                        Poor People   \n",
       "11126   45641                        Las aventuras de Tom Sawyer   \n",
       "\n",
       "                                                 authors average_rating  \\\n",
       "0                             J.K. Rowling/Mary GrandPré           4.57   \n",
       "1                             J.K. Rowling/Mary GrandPré           4.49   \n",
       "2                                           J.K. Rowling           4.42   \n",
       "3                             J.K. Rowling/Mary GrandPré           4.56   \n",
       "4                             J.K. Rowling/Mary GrandPré           4.78   \n",
       "...                                                  ...            ...   \n",
       "11122  William T. Vollmann/Larry McCaffery/Michael He...           4.06   \n",
       "11123                                William T. Vollmann           4.08   \n",
       "11124                                William T. Vollmann           3.96   \n",
       "11125                                William T. Vollmann           3.72   \n",
       "11126                                         Mark Twain           3.91   \n",
       "\n",
       "             isbn         isbn13 language_code num_pages  ratings_count  \\\n",
       "0       439785960  9780439785969           eng       652        2095690   \n",
       "1       439358078  9780439358071           eng       870        2153167   \n",
       "2       439554896  9780439554893           eng       352           6333   \n",
       "3      043965548X  9780439655484           eng       435        2339585   \n",
       "4       439682584  9780439682589           eng      2690          41428   \n",
       "...           ...            ...           ...       ...            ...   \n",
       "11122  1560254416  9781560254416           eng       512            156   \n",
       "11123   140110879  9780140110876           eng       635            783   \n",
       "11124   140131965  9780140131963           eng       415            820   \n",
       "11125    60878827  9780060878825           eng       434            769   \n",
       "11126  8497646983  9788497646987           spa       272            113   \n",
       "\n",
       "       text_reviews_count publication_date        publisher dummy  \n",
       "0                   27591        9/16/2006  Scholastic Inc.   NaN  \n",
       "1                   29221         9/1/2004  Scholastic Inc.   NaN  \n",
       "2                     244        11/1/2003       Scholastic   NaN  \n",
       "3                   36325         5/1/2004  Scholastic Inc.   NaN  \n",
       "4                     164        9/13/2004       Scholastic   NaN  \n",
       "...                   ...              ...              ...   ...  \n",
       "11122                  20       12/21/2004    Da Capo Press   NaN  \n",
       "11123                  56        12/1/1988    Penguin Books   NaN  \n",
       "11124                  95         8/1/1993    Penguin Books   NaN  \n",
       "11125                 139        2/27/2007             Ecco   NaN  \n",
       "11126                  12        5/28/2006    Edimat Libros   NaN  \n",
       "\n",
       "[11127 rows x 13 columns]"
      ]
     },
     "execution_count": 44,
     "metadata": {},
     "output_type": "execute_result"
    }
   ],
   "source": [
    "df"
   ]
  },
  {
   "cell_type": "markdown",
   "id": "c68089d3",
   "metadata": {},
   "source": [
    "### Cleaning Data"
   ]
  },
  {
   "cell_type": "code",
   "execution_count": 45,
   "id": "d04e6387",
   "metadata": {},
   "outputs": [
    {
     "data": {
      "text/plain": [
       "0        False\n",
       "1        False\n",
       "2        False\n",
       "3        False\n",
       "4        False\n",
       "         ...  \n",
       "11122    False\n",
       "11123    False\n",
       "11124    False\n",
       "11125    False\n",
       "11126    False\n",
       "Name: dummy, Length: 11127, dtype: bool"
      ]
     },
     "execution_count": 45,
     "metadata": {},
     "output_type": "execute_result"
    }
   ],
   "source": [
    "mask = df['dummy'].notnull()==True\n",
    "mask"
   ]
  },
  {
   "cell_type": "code",
   "execution_count": 46,
   "id": "2278d9cb",
   "metadata": {},
   "outputs": [
    {
     "data": {
      "text/html": [
       "<div>\n",
       "<style scoped>\n",
       "    .dataframe tbody tr th:only-of-type {\n",
       "        vertical-align: middle;\n",
       "    }\n",
       "\n",
       "    .dataframe tbody tr th {\n",
       "        vertical-align: top;\n",
       "    }\n",
       "\n",
       "    .dataframe thead th {\n",
       "        text-align: right;\n",
       "    }\n",
       "</style>\n",
       "<table border=\"1\" class=\"dataframe\">\n",
       "  <thead>\n",
       "    <tr style=\"text-align: right;\">\n",
       "      <th></th>\n",
       "      <th>bookID</th>\n",
       "      <th>title</th>\n",
       "      <th>authors</th>\n",
       "      <th>average_rating</th>\n",
       "      <th>isbn</th>\n",
       "      <th>isbn13</th>\n",
       "      <th>language_code</th>\n",
       "      <th>num_pages</th>\n",
       "      <th>ratings_count</th>\n",
       "      <th>text_reviews_count</th>\n",
       "      <th>publication_date</th>\n",
       "      <th>publisher</th>\n",
       "      <th>dummy</th>\n",
       "    </tr>\n",
       "  </thead>\n",
       "  <tbody>\n",
       "    <tr>\n",
       "      <th>3348</th>\n",
       "      <td>12224.0</td>\n",
       "      <td>Streetcar Suburbs: The Process of Growth in Bo...</td>\n",
       "      <td>Sam Bass Warner</td>\n",
       "      <td>Jr./Sam B. Warner</td>\n",
       "      <td>3.58</td>\n",
       "      <td>674842111</td>\n",
       "      <td>9780674842113</td>\n",
       "      <td>en-US</td>\n",
       "      <td>236.0</td>\n",
       "      <td>61.0</td>\n",
       "      <td>6</td>\n",
       "      <td>4/20/2004</td>\n",
       "      <td>Harvard University Press</td>\n",
       "    </tr>\n",
       "    <tr>\n",
       "      <th>4702</th>\n",
       "      <td>16914.0</td>\n",
       "      <td>The Tolkien Fan's Medieval Reader</td>\n",
       "      <td>David E. Smith (Turgon of TheOneRing.net</td>\n",
       "      <td>one of the founding members of this Tolkien we...</td>\n",
       "      <td>3.58</td>\n",
       "      <td>1593600119</td>\n",
       "      <td>9781593600112</td>\n",
       "      <td>eng</td>\n",
       "      <td>400.0</td>\n",
       "      <td>26.0</td>\n",
       "      <td>4</td>\n",
       "      <td>4/6/2004</td>\n",
       "      <td>Cold Spring Press</td>\n",
       "    </tr>\n",
       "    <tr>\n",
       "      <th>5877</th>\n",
       "      <td>22128.0</td>\n",
       "      <td>Patriots (The Coming Collapse)</td>\n",
       "      <td>James Wesley</td>\n",
       "      <td>Rawles</td>\n",
       "      <td>3.63</td>\n",
       "      <td>156384155X</td>\n",
       "      <td>9781563841552</td>\n",
       "      <td>eng</td>\n",
       "      <td>342.0</td>\n",
       "      <td>38.0</td>\n",
       "      <td>4</td>\n",
       "      <td>1/15/1999</td>\n",
       "      <td>Huntington House Publishers</td>\n",
       "    </tr>\n",
       "    <tr>\n",
       "      <th>8979</th>\n",
       "      <td>34889.0</td>\n",
       "      <td>Brown's Star Atlas: Showing All The Bright Sta...</td>\n",
       "      <td>Brown</td>\n",
       "      <td>Son &amp; Ferguson</td>\n",
       "      <td>0</td>\n",
       "      <td>851742718</td>\n",
       "      <td>9780851742717</td>\n",
       "      <td>eng</td>\n",
       "      <td>49.0</td>\n",
       "      <td>0.0</td>\n",
       "      <td>0</td>\n",
       "      <td>5/1/1977</td>\n",
       "      <td>Brown Son &amp; Ferguson Ltd.</td>\n",
       "    </tr>\n",
       "  </tbody>\n",
       "</table>\n",
       "</div>"
      ],
      "text/plain": [
       "       bookID                                              title  \\\n",
       "3348  12224.0  Streetcar Suburbs: The Process of Growth in Bo...   \n",
       "4702  16914.0                  The Tolkien Fan's Medieval Reader   \n",
       "5877  22128.0                     Patriots (The Coming Collapse)   \n",
       "8979  34889.0  Brown's Star Atlas: Showing All The Bright Sta...   \n",
       "\n",
       "                                       authors  \\\n",
       "3348                           Sam Bass Warner   \n",
       "4702  David E. Smith (Turgon of TheOneRing.net   \n",
       "5877                              James Wesley   \n",
       "8979                                     Brown   \n",
       "\n",
       "                                         average_rating  isbn      isbn13  \\\n",
       "3348                                  Jr./Sam B. Warner  3.58   674842111   \n",
       "4702  one of the founding members of this Tolkien we...  3.58  1593600119   \n",
       "5877                                             Rawles  3.63  156384155X   \n",
       "8979                                     Son & Ferguson     0   851742718   \n",
       "\n",
       "      language_code num_pages  ratings_count  text_reviews_count  \\\n",
       "3348  9780674842113     en-US          236.0                61.0   \n",
       "4702  9781593600112       eng          400.0                26.0   \n",
       "5877  9781563841552       eng          342.0                38.0   \n",
       "8979  9780851742717       eng           49.0                 0.0   \n",
       "\n",
       "     publication_date  publisher                        dummy  \n",
       "3348                6  4/20/2004     Harvard University Press  \n",
       "4702                4   4/6/2004            Cold Spring Press  \n",
       "5877                4  1/15/1999  Huntington House Publishers  \n",
       "8979                0   5/1/1977    Brown Son & Ferguson Ltd.  "
      ]
     },
     "execution_count": 46,
     "metadata": {},
     "output_type": "execute_result"
    }
   ],
   "source": [
    "bad_lines = df.where(mask).dropna()\n",
    "bad_lines"
   ]
  },
  {
   "cell_type": "code",
   "execution_count": 47,
   "id": "791f0c40",
   "metadata": {},
   "outputs": [],
   "source": [
    "df.drop(labels=[3348,4702,5877,8979], axis=0, inplace=True)"
   ]
  },
  {
   "cell_type": "code",
   "execution_count": 48,
   "id": "4f5a45b6",
   "metadata": {},
   "outputs": [
    {
     "data": {
      "text/html": [
       "<div>\n",
       "<style scoped>\n",
       "    .dataframe tbody tr th:only-of-type {\n",
       "        vertical-align: middle;\n",
       "    }\n",
       "\n",
       "    .dataframe tbody tr th {\n",
       "        vertical-align: top;\n",
       "    }\n",
       "\n",
       "    .dataframe thead th {\n",
       "        text-align: right;\n",
       "    }\n",
       "</style>\n",
       "<table border=\"1\" class=\"dataframe\">\n",
       "  <thead>\n",
       "    <tr style=\"text-align: right;\">\n",
       "      <th></th>\n",
       "      <th>bookID</th>\n",
       "      <th>title</th>\n",
       "      <th>authors</th>\n",
       "      <th>average_rating</th>\n",
       "      <th>isbn</th>\n",
       "      <th>isbn13</th>\n",
       "      <th>language_code</th>\n",
       "      <th>num_pages</th>\n",
       "      <th>ratings_count</th>\n",
       "      <th>text_reviews_count</th>\n",
       "      <th>publication_date</th>\n",
       "      <th>publisher</th>\n",
       "      <th>dummy</th>\n",
       "    </tr>\n",
       "  </thead>\n",
       "  <tbody>\n",
       "  </tbody>\n",
       "</table>\n",
       "</div>"
      ],
      "text/plain": [
       "Empty DataFrame\n",
       "Columns: [bookID, title, authors, average_rating, isbn, isbn13, language_code, num_pages, ratings_count, text_reviews_count, publication_date, publisher, dummy]\n",
       "Index: []"
      ]
     },
     "execution_count": 48,
     "metadata": {},
     "output_type": "execute_result"
    }
   ],
   "source": [
    "mask = df['dummy'].notnull()==True\n",
    "bad_lines = df.where(mask).dropna()\n",
    "bad_lines"
   ]
  },
  {
   "cell_type": "code",
   "execution_count": 49,
   "id": "07706ccd",
   "metadata": {},
   "outputs": [],
   "source": [
    "#checking for null rows\n",
    "df.drop(labels=['dummy'],axis=1, inplace=True)\n",
    "df2 = df[df.isna().any(axis=1)]"
   ]
  },
  {
   "cell_type": "code",
   "execution_count": 50,
   "id": "82f92636",
   "metadata": {},
   "outputs": [
    {
     "data": {
      "text/html": [
       "<div>\n",
       "<style scoped>\n",
       "    .dataframe tbody tr th:only-of-type {\n",
       "        vertical-align: middle;\n",
       "    }\n",
       "\n",
       "    .dataframe tbody tr th {\n",
       "        vertical-align: top;\n",
       "    }\n",
       "\n",
       "    .dataframe thead th {\n",
       "        text-align: right;\n",
       "    }\n",
       "</style>\n",
       "<table border=\"1\" class=\"dataframe\">\n",
       "  <thead>\n",
       "    <tr style=\"text-align: right;\">\n",
       "      <th></th>\n",
       "      <th>bookID</th>\n",
       "      <th>title</th>\n",
       "      <th>authors</th>\n",
       "      <th>average_rating</th>\n",
       "      <th>isbn</th>\n",
       "      <th>isbn13</th>\n",
       "      <th>language_code</th>\n",
       "      <th>num_pages</th>\n",
       "      <th>ratings_count</th>\n",
       "      <th>text_reviews_count</th>\n",
       "      <th>publication_date</th>\n",
       "      <th>publisher</th>\n",
       "    </tr>\n",
       "  </thead>\n",
       "  <tbody>\n",
       "  </tbody>\n",
       "</table>\n",
       "</div>"
      ],
      "text/plain": [
       "Empty DataFrame\n",
       "Columns: [bookID, title, authors, average_rating, isbn, isbn13, language_code, num_pages, ratings_count, text_reviews_count, publication_date, publisher]\n",
       "Index: []"
      ]
     },
     "execution_count": 50,
     "metadata": {},
     "output_type": "execute_result"
    }
   ],
   "source": [
    "df2"
   ]
  },
  {
   "cell_type": "markdown",
   "id": "b406115a",
   "metadata": {},
   "source": [
    "### Fixing wrong dates"
   ]
  },
  {
   "cell_type": "code",
   "execution_count": 52,
   "id": "5271752e",
   "metadata": {},
   "outputs": [
    {
     "data": {
      "text/html": [
       "<div>\n",
       "<style scoped>\n",
       "    .dataframe tbody tr th:only-of-type {\n",
       "        vertical-align: middle;\n",
       "    }\n",
       "\n",
       "    .dataframe tbody tr th {\n",
       "        vertical-align: top;\n",
       "    }\n",
       "\n",
       "    .dataframe thead th {\n",
       "        text-align: right;\n",
       "    }\n",
       "</style>\n",
       "<table border=\"1\" class=\"dataframe\">\n",
       "  <thead>\n",
       "    <tr style=\"text-align: right;\">\n",
       "      <th></th>\n",
       "      <th>publication_date</th>\n",
       "    </tr>\n",
       "  </thead>\n",
       "  <tbody>\n",
       "    <tr>\n",
       "      <th>0</th>\n",
       "      <td>2006-09-16</td>\n",
       "    </tr>\n",
       "    <tr>\n",
       "      <th>1</th>\n",
       "      <td>2004-09-01</td>\n",
       "    </tr>\n",
       "    <tr>\n",
       "      <th>2</th>\n",
       "      <td>2003-11-01</td>\n",
       "    </tr>\n",
       "    <tr>\n",
       "      <th>3</th>\n",
       "      <td>2004-05-01</td>\n",
       "    </tr>\n",
       "    <tr>\n",
       "      <th>4</th>\n",
       "      <td>2004-09-13</td>\n",
       "    </tr>\n",
       "    <tr>\n",
       "      <th>...</th>\n",
       "      <td>...</td>\n",
       "    </tr>\n",
       "    <tr>\n",
       "      <th>11122</th>\n",
       "      <td>2004-12-21</td>\n",
       "    </tr>\n",
       "    <tr>\n",
       "      <th>11123</th>\n",
       "      <td>1988-12-01</td>\n",
       "    </tr>\n",
       "    <tr>\n",
       "      <th>11124</th>\n",
       "      <td>1993-08-01</td>\n",
       "    </tr>\n",
       "    <tr>\n",
       "      <th>11125</th>\n",
       "      <td>2007-02-27</td>\n",
       "    </tr>\n",
       "    <tr>\n",
       "      <th>11126</th>\n",
       "      <td>2006-05-28</td>\n",
       "    </tr>\n",
       "  </tbody>\n",
       "</table>\n",
       "<p>11123 rows × 1 columns</p>\n",
       "</div>"
      ],
      "text/plain": [
       "      publication_date\n",
       "0           2006-09-16\n",
       "1           2004-09-01\n",
       "2           2003-11-01\n",
       "3           2004-05-01\n",
       "4           2004-09-13\n",
       "...                ...\n",
       "11122       2004-12-21\n",
       "11123       1988-12-01\n",
       "11124       1993-08-01\n",
       "11125       2007-02-27\n",
       "11126       2006-05-28\n",
       "\n",
       "[11123 rows x 1 columns]"
      ]
     },
     "execution_count": 52,
     "metadata": {},
     "output_type": "execute_result"
    }
   ],
   "source": [
    "dfx = pd.DataFrame(pd.to_datetime(df['publication_date'], errors='coerce'))\n",
    "dfx"
   ]
  },
  {
   "cell_type": "code",
   "execution_count": 53,
   "id": "45358a9e",
   "metadata": {},
   "outputs": [
    {
     "data": {
      "text/html": [
       "<div>\n",
       "<style scoped>\n",
       "    .dataframe tbody tr th:only-of-type {\n",
       "        vertical-align: middle;\n",
       "    }\n",
       "\n",
       "    .dataframe tbody tr th {\n",
       "        vertical-align: top;\n",
       "    }\n",
       "\n",
       "    .dataframe thead th {\n",
       "        text-align: right;\n",
       "    }\n",
       "</style>\n",
       "<table border=\"1\" class=\"dataframe\">\n",
       "  <thead>\n",
       "    <tr style=\"text-align: right;\">\n",
       "      <th></th>\n",
       "      <th>publication_date</th>\n",
       "    </tr>\n",
       "  </thead>\n",
       "  <tbody>\n",
       "    <tr>\n",
       "      <th>8180</th>\n",
       "      <td>NaT</td>\n",
       "    </tr>\n",
       "    <tr>\n",
       "      <th>11098</th>\n",
       "      <td>NaT</td>\n",
       "    </tr>\n",
       "  </tbody>\n",
       "</table>\n",
       "</div>"
      ],
      "text/plain": [
       "      publication_date\n",
       "8180               NaT\n",
       "11098              NaT"
      ]
     },
     "execution_count": 53,
     "metadata": {},
     "output_type": "execute_result"
    }
   ],
   "source": [
    "dfx_2 = dfx[dfx.isna().any(axis=1)]\n",
    "dfx_2"
   ]
  },
  {
   "cell_type": "code",
   "execution_count": 54,
   "id": "e510e62d",
   "metadata": {},
   "outputs": [
    {
     "data": {
      "text/plain": [
       "'11/31/2000'"
      ]
     },
     "execution_count": 54,
     "metadata": {},
     "output_type": "execute_result"
    }
   ],
   "source": [
    "df['publication_date'][8180]"
   ]
  },
  {
   "cell_type": "code",
   "execution_count": 55,
   "id": "e0c94251",
   "metadata": {},
   "outputs": [
    {
     "name": "stderr",
     "output_type": "stream",
     "text": [
      "/var/folders/5d/44kcj5_n491cwlgxyqtghq940000gn/T/ipykernel_59744/2593845872.py:1: SettingWithCopyWarning: \n",
      "A value is trying to be set on a copy of a slice from a DataFrame\n",
      "\n",
      "See the caveats in the documentation: https://pandas.pydata.org/pandas-docs/stable/user_guide/indexing.html#returning-a-view-versus-a-copy\n",
      "  df['publication_date'][8180] = '12/1/2000'\n"
     ]
    }
   ],
   "source": [
    "df['publication_date'][8180] = '12/1/2000'"
   ]
  },
  {
   "cell_type": "code",
   "execution_count": 56,
   "id": "aed743f4",
   "metadata": {},
   "outputs": [
    {
     "data": {
      "text/plain": [
       "'6/31/1982'"
      ]
     },
     "execution_count": 56,
     "metadata": {},
     "output_type": "execute_result"
    }
   ],
   "source": [
    "df['publication_date'][11098]"
   ]
  },
  {
   "cell_type": "code",
   "execution_count": 57,
   "id": "47e5f943",
   "metadata": {},
   "outputs": [
    {
     "name": "stderr",
     "output_type": "stream",
     "text": [
      "/var/folders/5d/44kcj5_n491cwlgxyqtghq940000gn/T/ipykernel_59744/3083786699.py:1: SettingWithCopyWarning: \n",
      "A value is trying to be set on a copy of a slice from a DataFrame\n",
      "\n",
      "See the caveats in the documentation: https://pandas.pydata.org/pandas-docs/stable/user_guide/indexing.html#returning-a-view-versus-a-copy\n",
      "  df['publication_date'][11098] = '7/1/1982'\n"
     ]
    }
   ],
   "source": [
    "df['publication_date'][11098] = '7/1/1982'"
   ]
  },
  {
   "cell_type": "code",
   "execution_count": 58,
   "id": "c9574936",
   "metadata": {},
   "outputs": [],
   "source": [
    "df['publication_date'] = pd.to_datetime(df['publication_date'])"
   ]
  },
  {
   "cell_type": "code",
   "execution_count": 60,
   "id": "d5fa8748",
   "metadata": {},
   "outputs": [],
   "source": [
    "df.rename(columns = {'  num_pages':'num_pages'}, inplace = True) ##remove spaces in column name"
   ]
  },
  {
   "cell_type": "markdown",
   "id": "817b017f",
   "metadata": {},
   "source": [
    "### Creating new dataframe after splitting authors"
   ]
  },
  {
   "cell_type": "code",
   "execution_count": 61,
   "id": "612508e7",
   "metadata": {},
   "outputs": [],
   "source": [
    "#splitting multiple authors for the same book into different rows and creating a new dataframe\n",
    "df_split_authors = pd.DataFrame(columns=['bookID','title','author','average_rating','isbn','isbn13','language_code','num_pages'\n",
    "                               ,'ratings_count','text_reviews_count','publication_date','publisher'])\n",
    "indx = 0\n",
    "for index, row in df.iterrows():\n",
    "    authors = row['authors'].split(\"/\")\n",
    "    for a in authors:\n",
    "        df_split_authors.loc[indx] = pd.Series({\n",
    "          'bookID':row['bookID'],\n",
    "          'title':row['title'],\n",
    "          'author': str(a),\n",
    "          'average_rating': row['average_rating'],\n",
    "          'isbn': row['isbn13'],\n",
    "          'isbn13': row['isbn'],\n",
    "          'language_code': row['language_code'],\n",
    "          'num_pages': row['num_pages'],\n",
    "          'ratings_count': row['ratings_count'],\n",
    "          'text_reviews_count': row['text_reviews_count'],\n",
    "          'publication_date': row['publication_date'],\n",
    "          'publisher': row['publisher']\n",
    "        })\n",
    "        indx = indx + 1"
   ]
  },
  {
   "cell_type": "code",
   "execution_count": 62,
   "id": "de560ed0",
   "metadata": {},
   "outputs": [
    {
     "data": {
      "text/html": [
       "<div>\n",
       "<style scoped>\n",
       "    .dataframe tbody tr th:only-of-type {\n",
       "        vertical-align: middle;\n",
       "    }\n",
       "\n",
       "    .dataframe tbody tr th {\n",
       "        vertical-align: top;\n",
       "    }\n",
       "\n",
       "    .dataframe thead th {\n",
       "        text-align: right;\n",
       "    }\n",
       "</style>\n",
       "<table border=\"1\" class=\"dataframe\">\n",
       "  <thead>\n",
       "    <tr style=\"text-align: right;\">\n",
       "      <th></th>\n",
       "      <th>bookID</th>\n",
       "      <th>title</th>\n",
       "      <th>author</th>\n",
       "      <th>average_rating</th>\n",
       "      <th>isbn</th>\n",
       "      <th>isbn13</th>\n",
       "      <th>language_code</th>\n",
       "      <th>num_pages</th>\n",
       "      <th>ratings_count</th>\n",
       "      <th>text_reviews_count</th>\n",
       "      <th>publication_date</th>\n",
       "      <th>publisher</th>\n",
       "    </tr>\n",
       "  </thead>\n",
       "  <tbody>\n",
       "    <tr>\n",
       "      <th>0</th>\n",
       "      <td>1</td>\n",
       "      <td>Harry Potter and the Half-Blood Prince (Harry ...</td>\n",
       "      <td>J.K. Rowling</td>\n",
       "      <td>4.57</td>\n",
       "      <td>9780439785969</td>\n",
       "      <td>439785960</td>\n",
       "      <td>eng</td>\n",
       "      <td>652</td>\n",
       "      <td>2095690</td>\n",
       "      <td>27591</td>\n",
       "      <td>2006-09-16</td>\n",
       "      <td>Scholastic Inc.</td>\n",
       "    </tr>\n",
       "    <tr>\n",
       "      <th>1</th>\n",
       "      <td>1</td>\n",
       "      <td>Harry Potter and the Half-Blood Prince (Harry ...</td>\n",
       "      <td>Mary GrandPré</td>\n",
       "      <td>4.57</td>\n",
       "      <td>9780439785969</td>\n",
       "      <td>439785960</td>\n",
       "      <td>eng</td>\n",
       "      <td>652</td>\n",
       "      <td>2095690</td>\n",
       "      <td>27591</td>\n",
       "      <td>2006-09-16</td>\n",
       "      <td>Scholastic Inc.</td>\n",
       "    </tr>\n",
       "    <tr>\n",
       "      <th>2</th>\n",
       "      <td>2</td>\n",
       "      <td>Harry Potter and the Order of the Phoenix (Har...</td>\n",
       "      <td>J.K. Rowling</td>\n",
       "      <td>4.49</td>\n",
       "      <td>9780439358071</td>\n",
       "      <td>439358078</td>\n",
       "      <td>eng</td>\n",
       "      <td>870</td>\n",
       "      <td>2153167</td>\n",
       "      <td>29221</td>\n",
       "      <td>2004-09-01</td>\n",
       "      <td>Scholastic Inc.</td>\n",
       "    </tr>\n",
       "    <tr>\n",
       "      <th>3</th>\n",
       "      <td>2</td>\n",
       "      <td>Harry Potter and the Order of the Phoenix (Har...</td>\n",
       "      <td>Mary GrandPré</td>\n",
       "      <td>4.49</td>\n",
       "      <td>9780439358071</td>\n",
       "      <td>439358078</td>\n",
       "      <td>eng</td>\n",
       "      <td>870</td>\n",
       "      <td>2153167</td>\n",
       "      <td>29221</td>\n",
       "      <td>2004-09-01</td>\n",
       "      <td>Scholastic Inc.</td>\n",
       "    </tr>\n",
       "    <tr>\n",
       "      <th>4</th>\n",
       "      <td>4</td>\n",
       "      <td>Harry Potter and the Chamber of Secrets (Harry...</td>\n",
       "      <td>J.K. Rowling</td>\n",
       "      <td>4.42</td>\n",
       "      <td>9780439554893</td>\n",
       "      <td>439554896</td>\n",
       "      <td>eng</td>\n",
       "      <td>352</td>\n",
       "      <td>6333</td>\n",
       "      <td>244</td>\n",
       "      <td>2003-11-01</td>\n",
       "      <td>Scholastic</td>\n",
       "    </tr>\n",
       "    <tr>\n",
       "      <th>...</th>\n",
       "      <td>...</td>\n",
       "      <td>...</td>\n",
       "      <td>...</td>\n",
       "      <td>...</td>\n",
       "      <td>...</td>\n",
       "      <td>...</td>\n",
       "      <td>...</td>\n",
       "      <td>...</td>\n",
       "      <td>...</td>\n",
       "      <td>...</td>\n",
       "      <td>...</td>\n",
       "      <td>...</td>\n",
       "    </tr>\n",
       "    <tr>\n",
       "      <th>19232</th>\n",
       "      <td>45631</td>\n",
       "      <td>Expelled from Eden: A William T. Vollmann Reader</td>\n",
       "      <td>Michael Hemmingson</td>\n",
       "      <td>4.06</td>\n",
       "      <td>9781560254416</td>\n",
       "      <td>1560254416</td>\n",
       "      <td>eng</td>\n",
       "      <td>512</td>\n",
       "      <td>156</td>\n",
       "      <td>20</td>\n",
       "      <td>2004-12-21</td>\n",
       "      <td>Da Capo Press</td>\n",
       "    </tr>\n",
       "    <tr>\n",
       "      <th>19233</th>\n",
       "      <td>45633</td>\n",
       "      <td>You Bright and Risen Angels</td>\n",
       "      <td>William T. Vollmann</td>\n",
       "      <td>4.08</td>\n",
       "      <td>9780140110876</td>\n",
       "      <td>140110879</td>\n",
       "      <td>eng</td>\n",
       "      <td>635</td>\n",
       "      <td>783</td>\n",
       "      <td>56</td>\n",
       "      <td>1988-12-01</td>\n",
       "      <td>Penguin Books</td>\n",
       "    </tr>\n",
       "    <tr>\n",
       "      <th>19234</th>\n",
       "      <td>45634</td>\n",
       "      <td>The Ice-Shirt (Seven Dreams #1)</td>\n",
       "      <td>William T. Vollmann</td>\n",
       "      <td>3.96</td>\n",
       "      <td>9780140131963</td>\n",
       "      <td>140131965</td>\n",
       "      <td>eng</td>\n",
       "      <td>415</td>\n",
       "      <td>820</td>\n",
       "      <td>95</td>\n",
       "      <td>1993-08-01</td>\n",
       "      <td>Penguin Books</td>\n",
       "    </tr>\n",
       "    <tr>\n",
       "      <th>19235</th>\n",
       "      <td>45639</td>\n",
       "      <td>Poor People</td>\n",
       "      <td>William T. Vollmann</td>\n",
       "      <td>3.72</td>\n",
       "      <td>9780060878825</td>\n",
       "      <td>60878827</td>\n",
       "      <td>eng</td>\n",
       "      <td>434</td>\n",
       "      <td>769</td>\n",
       "      <td>139</td>\n",
       "      <td>2007-02-27</td>\n",
       "      <td>Ecco</td>\n",
       "    </tr>\n",
       "    <tr>\n",
       "      <th>19236</th>\n",
       "      <td>45641</td>\n",
       "      <td>Las aventuras de Tom Sawyer</td>\n",
       "      <td>Mark Twain</td>\n",
       "      <td>3.91</td>\n",
       "      <td>9788497646987</td>\n",
       "      <td>8497646983</td>\n",
       "      <td>spa</td>\n",
       "      <td>272</td>\n",
       "      <td>113</td>\n",
       "      <td>12</td>\n",
       "      <td>2006-05-28</td>\n",
       "      <td>Edimat Libros</td>\n",
       "    </tr>\n",
       "  </tbody>\n",
       "</table>\n",
       "<p>19237 rows × 12 columns</p>\n",
       "</div>"
      ],
      "text/plain": [
       "      bookID                                              title  \\\n",
       "0          1  Harry Potter and the Half-Blood Prince (Harry ...   \n",
       "1          1  Harry Potter and the Half-Blood Prince (Harry ...   \n",
       "2          2  Harry Potter and the Order of the Phoenix (Har...   \n",
       "3          2  Harry Potter and the Order of the Phoenix (Har...   \n",
       "4          4  Harry Potter and the Chamber of Secrets (Harry...   \n",
       "...      ...                                                ...   \n",
       "19232  45631   Expelled from Eden: A William T. Vollmann Reader   \n",
       "19233  45633                        You Bright and Risen Angels   \n",
       "19234  45634                    The Ice-Shirt (Seven Dreams #1)   \n",
       "19235  45639                                        Poor People   \n",
       "19236  45641                        Las aventuras de Tom Sawyer   \n",
       "\n",
       "                    author average_rating           isbn      isbn13  \\\n",
       "0             J.K. Rowling           4.57  9780439785969   439785960   \n",
       "1            Mary GrandPré           4.57  9780439785969   439785960   \n",
       "2             J.K. Rowling           4.49  9780439358071   439358078   \n",
       "3            Mary GrandPré           4.49  9780439358071   439358078   \n",
       "4             J.K. Rowling           4.42  9780439554893   439554896   \n",
       "...                    ...            ...            ...         ...   \n",
       "19232   Michael Hemmingson           4.06  9781560254416  1560254416   \n",
       "19233  William T. Vollmann           4.08  9780140110876   140110879   \n",
       "19234  William T. Vollmann           3.96  9780140131963   140131965   \n",
       "19235  William T. Vollmann           3.72  9780060878825    60878827   \n",
       "19236           Mark Twain           3.91  9788497646987  8497646983   \n",
       "\n",
       "      language_code num_pages ratings_count text_reviews_count  \\\n",
       "0               eng       652       2095690              27591   \n",
       "1               eng       652       2095690              27591   \n",
       "2               eng       870       2153167              29221   \n",
       "3               eng       870       2153167              29221   \n",
       "4               eng       352          6333                244   \n",
       "...             ...       ...           ...                ...   \n",
       "19232           eng       512           156                 20   \n",
       "19233           eng       635           783                 56   \n",
       "19234           eng       415           820                 95   \n",
       "19235           eng       434           769                139   \n",
       "19236           spa       272           113                 12   \n",
       "\n",
       "      publication_date        publisher  \n",
       "0           2006-09-16  Scholastic Inc.  \n",
       "1           2006-09-16  Scholastic Inc.  \n",
       "2           2004-09-01  Scholastic Inc.  \n",
       "3           2004-09-01  Scholastic Inc.  \n",
       "4           2003-11-01       Scholastic  \n",
       "...                ...              ...  \n",
       "19232       2004-12-21    Da Capo Press  \n",
       "19233       1988-12-01    Penguin Books  \n",
       "19234       1993-08-01    Penguin Books  \n",
       "19235       2007-02-27             Ecco  \n",
       "19236       2006-05-28    Edimat Libros  \n",
       "\n",
       "[19237 rows x 12 columns]"
      ]
     },
     "execution_count": 62,
     "metadata": {},
     "output_type": "execute_result"
    }
   ],
   "source": [
    "df_split_authors"
   ]
  },
  {
   "cell_type": "markdown",
   "id": "5b7e2f77",
   "metadata": {},
   "source": [
    "### Creating a MongoDb collection"
   ]
  },
  {
   "cell_type": "code",
   "execution_count": 63,
   "id": "d35f0513",
   "metadata": {},
   "outputs": [],
   "source": [
    "collection = db.authors"
   ]
  },
  {
   "cell_type": "code",
   "execution_count": 64,
   "id": "05de6848",
   "metadata": {},
   "outputs": [
    {
     "name": "stdout",
     "output_type": "stream",
     "text": [
      "Collection(Database(MongoClient(host=['localhost:27017'], document_class=dict, tz_aware=False, connect=True), 'bigdata'), 'collection')\n"
     ]
    }
   ],
   "source": [
    "print(db.collection)"
   ]
  },
  {
   "cell_type": "code",
   "execution_count": 65,
   "id": "5985f275",
   "metadata": {},
   "outputs": [],
   "source": [
    "collection.drop()\n",
    "collection.find_one()"
   ]
  },
  {
   "cell_type": "markdown",
   "id": "27d45cbc",
   "metadata": {},
   "source": [
    "### Adding authors document records with author name and list of books by the author"
   ]
  },
  {
   "cell_type": "code",
   "execution_count": 66,
   "id": "fce7eb3e",
   "metadata": {},
   "outputs": [],
   "source": [
    "for index, row in df_split_authors.iterrows():\n",
    "    myquery = { 'author': str(row['author']) }\n",
    "    mydoc = list(collection.find(myquery))\n",
    "    if(len(mydoc) == 0):\n",
    "        post = {'author': row['author'], 'books': [row['title']]}\n",
    "        collection.insert_one(post)\n",
    "    else:\n",
    "        newbooks = mydoc[0]['books']\n",
    "        newbooks.append(row['title'])\n",
    "        newbooks = list(set(newbooks)) #needed because some books under author names are repeatative\n",
    "        newvalues = { \"$set\": { \"books\": newbooks } }\n",
    "        collection.update_one(myquery, newvalues)"
   ]
  },
  {
   "cell_type": "markdown",
   "id": "15b00e8e",
   "metadata": {},
   "source": [
    "### Creating books document records with book title and isbn number"
   ]
  },
  {
   "cell_type": "code",
   "execution_count": 67,
   "id": "c421da8c",
   "metadata": {},
   "outputs": [],
   "source": [
    "for index, row in df.iterrows():\n",
    "    myquery = { 'book': str(row['title']) }\n",
    "    mydoc = list(collection.find(myquery))\n",
    "    if(len(mydoc) == 0):\n",
    "        post = {'book': row['title'], 'isbn': row['isbn13']}\n",
    "        collection.insert_one(post)"
   ]
  },
  {
   "cell_type": "code",
   "execution_count": 68,
   "id": "41cc0e84",
   "metadata": {},
   "outputs": [
    {
     "data": {
      "text/plain": [
       "{'_id': ObjectId('64128d7fb895cfc838e40e46'),\n",
       " 'book': '混血王子的背叛 (哈利波特  #6)',\n",
       " 'isbn': '9789573321743'}"
      ]
     },
     "execution_count": 68,
     "metadata": {},
     "output_type": "execute_result"
    }
   ],
   "source": [
    "collection.find_one({'book': '混血王子的背叛 (哈利波特  #6)'})"
   ]
  },
  {
   "cell_type": "code",
   "execution_count": 69,
   "id": "a1dd53a4",
   "metadata": {},
   "outputs": [
    {
     "data": {
      "text/plain": [
       "{'_id': ObjectId('64128d2db895cfc838e3e40a'),\n",
       " 'author': 'J.K. Rowling',\n",
       " 'books': [\"Harry Potter and the Philosopher's Stone (Harry Potter  #1)\",\n",
       "  'Harrius Potter et Camera Secretorum',\n",
       "  'Harry Potter y la Orden del Fénix (Harry Potter  #5)',\n",
       "  'Harry Potter and the Chamber of Secrets (Harry Potter  #2)',\n",
       "  'Harry Potter Boxed Set  Books 1-5 (Harry Potter  #1-5)',\n",
       "  'Harry Potter und der Gefangene von Askaban (Harry Potter  #3)',\n",
       "  'Harry Potter Y La Piedra Filosofal (Harry Potter  #1)',\n",
       "  'Harry Potter y el misterio del príncipe (Harry Potter  #6)',\n",
       "  'Harry Potter Collection (Harry Potter  #1-6)',\n",
       "  'Harry Potter and the Order of the Phoenix (Harry Potter  #5)',\n",
       "  'Harrius Potter et Philosophi Lapis',\n",
       "  'Harry Potter and the Prisoner of Azkaban (Harry Potter  #3)',\n",
       "  'Harry Potter and the Goblet of Fire (Harry Potter  #4)',\n",
       "  '混血王子的背叛 (哈利波特  #6)',\n",
       "  '火盃的考驗 (哈利波特  #4)',\n",
       "  'Fantastic Beasts and Where to Find Them (Hogwarts Library)',\n",
       "  'Harry Potter ve Sırlar Odası (Harry Potter  #2)',\n",
       "  'Harry Potter und die Kammer des Schreckens (Harry Potter  #2)',\n",
       "  \"Harry Potter and the Sorcerer's Stone (Harry Potter  #1)\",\n",
       "  'Harry Potter and the Half-Blood Prince (Harry Potter  #6)',\n",
       "  'Harry Potter Schoolbooks Box Set: Two Classic Books from the Library of Hogwarts School of Witchcraft and Wizardry']}"
      ]
     },
     "execution_count": 69,
     "metadata": {},
     "output_type": "execute_result"
    }
   ],
   "source": [
    "collection.find_one({'author': 'J.K. Rowling'})"
   ]
  },
  {
   "cell_type": "code",
   "execution_count": 70,
   "id": "2d75ea9c",
   "metadata": {},
   "outputs": [
    {
     "data": {
      "text/plain": [
       "{'_id': ObjectId('64128d34b895cfc838e3e959'),\n",
       " 'author': 'Stephen King',\n",
       " 'books': ['El talismán',\n",
       "  'The Colorado Kid',\n",
       "  'The Body',\n",
       "  'Desperation / The Regulators: Box Set',\n",
       "  'The Green Mile',\n",
       "  'Thinner',\n",
       "  'The Girl Who Loved Tom Gordon',\n",
       "  'Ojos de fuego',\n",
       "  'The Monkey',\n",
       "  'Territoires (Le talisman des territoires  #2)',\n",
       "  'Baseball: a Literary Anthology',\n",
       "  'El retrato de Rose Madder',\n",
       "  'Dreamcatcher',\n",
       "  'Faithful: Two Diehard Boston Red Sox Fans Chronicle the Historic 2004 Season',\n",
       "  'La Torre Oscura VII - Tomo 2 of 2 (La Torre Oscura  #7)',\n",
       "  'Danse Macabre',\n",
       "  'On Writing: A Memoir',\n",
       "  'The Dark Descent',\n",
       "  'Stationary Bike',\n",
       "  'Storm of the Century: An Original Screenplay',\n",
       "  'From a Buick 8',\n",
       "  'The Man in the Black Suit: 4 Dark Tales',\n",
       "  'Cujo',\n",
       "  'The Dark Half',\n",
       "  'The Bachman Books',\n",
       "  'Misery',\n",
       "  'Night Shift',\n",
       "  'Christine',\n",
       "  'Bare Bones: Conversations on Terror with Stephen King',\n",
       "  'Black House (The Talisman  #2)',\n",
       "  \"Everything's Eventual: 14 Dark Tales\",\n",
       "  'Different Seasons',\n",
       "  'The Gunslinger (The Dark Tower #1)',\n",
       "  'Creepshow',\n",
       "  'Insomnia',\n",
       "  'The Shawshank Redemption: The Shooting Script',\n",
       "  \"World's End (The Sandman  #8)\",\n",
       "  'Wolves of the Calla (The Dark Tower  #5)',\n",
       "  'Blood and Smoke',\n",
       "  'Now and on Earth',\n",
       "  'Dark Visions',\n",
       "  'The Talisman',\n",
       "  'Carretera maldita',\n",
       "  'The Stand: Das letzte Gefecht',\n",
       "  'The Waste Lands (The Dark Tower #3)',\n",
       "  'Four Past Midnight: Featuring \"The Langoliers\"',\n",
       "  'El umbral de la noche',\n",
       "  'Gray Matter and Other Stories from Night Shift',\n",
       "  \"Gerald's Game\",\n",
       "  \"LT's Theory of Pets\",\n",
       "  \"Lisey's Story\",\n",
       "  'The Bachman Books: Four Early Novels by Stephen King',\n",
       "  \"Salem's Lot\",\n",
       "  'The Medusa in the Shield',\n",
       "  'Carrie',\n",
       "  'The Waste Lands (The Dark Tower  #3)',\n",
       "  'Rabia',\n",
       "  \"El misterio de Salem's Lot\",\n",
       "  'Carrie (Biblioteca de Stephen King. 102  8)',\n",
       "  'La danza de la muerte',\n",
       "  'The Mist',\n",
       "  'The Gunslinger',\n",
       "  'The Dark Tower (The Dark Tower #7)',\n",
       "  'A Fabulous  Formless Darkness',\n",
       "  'The Secretary of Dreams  Volume One',\n",
       "  'La Milla Verde',\n",
       "  'Legends',\n",
       "  'Four Past Midnight',\n",
       "  'The Shining',\n",
       "  'The Eyes of the Dragon',\n",
       "  'Riding the Bullet',\n",
       "  'Skeleton Crew',\n",
       "  'Silver Bullet',\n",
       "  'Pet Sematary',\n",
       "  'Storm of the Century',\n",
       "  'Nightmare At 20 000 Feet',\n",
       "  'The Long Walk',\n",
       "  'The Drawing of the Three (The Dark Tower  #2)',\n",
       "  'The Stephen King Collection: Stories from Night Shift',\n",
       "  \"Carrie / 'Salem's Lot / The Shining\"]}"
      ]
     },
     "execution_count": 70,
     "metadata": {},
     "output_type": "execute_result"
    }
   ],
   "source": [
    "collection.find_one({'author': 'Stephen King'})"
   ]
  },
  {
   "cell_type": "code",
   "execution_count": 71,
   "id": "8828f82e",
   "metadata": {},
   "outputs": [
    {
     "data": {
      "text/plain": [
       "{'_id': ObjectId('64128d2db895cfc838e3e4a1'),\n",
       " 'author': 'Gabriel García Márquez',\n",
       " 'books': [\"A Study Guide to Gabriel Garcia Marquez' One Hundred Years of Solitude\",\n",
       "  'Los funerales de la Mamá Grande',\n",
       "  'Me Alquilo Para Soñar (Taller de Guión  #62)',\n",
       "  'Love in the Time of Cholera',\n",
       "  'Cien años de soledad',\n",
       "  'Noticia de un secuestro',\n",
       "  'Living to Tell the Tale',\n",
       "  'The Autumn of the Patriarch',\n",
       "  'Strange Pilgrims',\n",
       "  'Chronik eines angekündigten Todes',\n",
       "  'Chronicle of a Death Foretold',\n",
       "  'Memoria de mis putas tristes',\n",
       "  'The General in His Labyrinth',\n",
       "  'El coronel no tiene quien le escriba',\n",
       "  'Collected Novellas',\n",
       "  'Del amor y otros demonios',\n",
       "  'Crónica de una muerte anunciada',\n",
       "  'Relato de un náufrago',\n",
       "  'Doce cuentos peregrinos',\n",
       "  'La increíble y triste historia de la cándida Eréndira y de su abuela desalmada',\n",
       "  'Collected Stories',\n",
       "  'One Hundred Years Of Solitude',\n",
       "  'Ojos de perro azul',\n",
       "  'Of Love and Other Demons',\n",
       "  'The Story of a Shipwrecked Sailor',\n",
       "  'El amor en los tiempos del cólera',\n",
       "  'One Hundred Years of Solitude',\n",
       "  'Relato de Um Náufrago']}"
      ]
     },
     "execution_count": 71,
     "metadata": {},
     "output_type": "execute_result"
    }
   ],
   "source": [
    "collection.find_one({'author': 'Gabriel García Márquez'})"
   ]
  },
  {
   "cell_type": "markdown",
   "id": "24042cc9",
   "metadata": {},
   "source": [
    "### Adding bio to author documents from the openlibrary api"
   ]
  },
  {
   "cell_type": "code",
   "execution_count": 72,
   "id": "65182f4e",
   "metadata": {},
   "outputs": [],
   "source": [
    "import requests\n",
    "def add_records(author):\n",
    "    api_url = \"https://openlibrary.org/search/authors.json?q=\" + author\n",
    "    response = requests.get(api_url)\n",
    "    bios = \"\"\n",
    "    total_source_records = []\n",
    "    for d in response.json()['docs']:\n",
    "        url = \"https://openlibrary.org/authors/\" + d['key'] + \".json\"\n",
    "        resp = requests.get(url)\n",
    "        if('bio' in resp.json()):\n",
    "            if isinstance(resp.json()['bio'],dict):\n",
    "                bios+=resp.json()['bio']['value']\n",
    "            else:\n",
    "                bios+=resp.json()['bio'] \n",
    "    query = {'author': author}\n",
    "    bi = { \"$set\": { \"bio\": bios } }\n",
    "    collection.update_one(query, bi)"
   ]
  },
  {
   "cell_type": "code",
   "execution_count": 73,
   "id": "d397c9ca",
   "metadata": {},
   "outputs": [],
   "source": [
    "add_records(\"J.K. Rowling\")"
   ]
  },
  {
   "cell_type": "code",
   "execution_count": 74,
   "id": "54362413",
   "metadata": {},
   "outputs": [],
   "source": [
    "add_records(\"Gabriel García Márquez\")"
   ]
  },
  {
   "cell_type": "code",
   "execution_count": 75,
   "id": "afe426b0",
   "metadata": {},
   "outputs": [],
   "source": [
    "add_records(\"Stephen King\")"
   ]
  },
  {
   "cell_type": "code",
   "execution_count": 76,
   "id": "6ed96aa2",
   "metadata": {},
   "outputs": [
    {
     "data": {
      "text/plain": [
       "{'_id': ObjectId('64128d2db895cfc838e3e4a1'),\n",
       " 'author': 'Gabriel García Márquez',\n",
       " 'books': [\"A Study Guide to Gabriel Garcia Marquez' One Hundred Years of Solitude\",\n",
       "  'Los funerales de la Mamá Grande',\n",
       "  'Me Alquilo Para Soñar (Taller de Guión  #62)',\n",
       "  'Love in the Time of Cholera',\n",
       "  'Cien años de soledad',\n",
       "  'Noticia de un secuestro',\n",
       "  'Living to Tell the Tale',\n",
       "  'The Autumn of the Patriarch',\n",
       "  'Strange Pilgrims',\n",
       "  'Chronik eines angekündigten Todes',\n",
       "  'Chronicle of a Death Foretold',\n",
       "  'Memoria de mis putas tristes',\n",
       "  'The General in His Labyrinth',\n",
       "  'El coronel no tiene quien le escriba',\n",
       "  'Collected Novellas',\n",
       "  'Del amor y otros demonios',\n",
       "  'Crónica de una muerte anunciada',\n",
       "  'Relato de un náufrago',\n",
       "  'Doce cuentos peregrinos',\n",
       "  'La increíble y triste historia de la cándida Eréndira y de su abuela desalmada',\n",
       "  'Collected Stories',\n",
       "  'One Hundred Years Of Solitude',\n",
       "  'Ojos de perro azul',\n",
       "  'Of Love and Other Demons',\n",
       "  'The Story of a Shipwrecked Sailor',\n",
       "  'El amor en los tiempos del cólera',\n",
       "  'One Hundred Years of Solitude',\n",
       "  'Relato de Um Náufrago'],\n",
       " 'bio': 'Gabriel García Márquez is a Colombian novelist, short-story writer, screenwriter and journalist. García Márquez, affectionately known as \"Gabo\" throughout Latin America, is considered one of the most significant authors of the 20th century. In 1982, he was awarded the Nobel Prize in Literature. He pursued a self-directed education that resulted in his leaving law school for a career in journalism. From early on, he showed no inhibitions in his criticism of Colombian and foreign politics. In 1958, he married Mercedes Barcha; they have two sons, Rodrigo and Gonzalo.\\r\\n\\r\\nHe started as a journalist, and has written many acclaimed non-fiction works and short stories, but is best-known for his novels, such as One Hundred Years of Solitude (1967) and Love in the Time of Cholera (1985). His works have achieved significant critical acclaim and widespread commercial success, most notably for popularizing a literary style labeled as magical realism, which uses magical elements and events in otherwise ordinary and realistic situations. Some of his works are set in a fictional village called Macondo, and most of them express the theme of solitude. [1]\\r\\n\\r\\n [1]: http://en.wikipedia.org/wiki/Gabriel_Garc%C3%ADa_M%C3%A1rquez\\r\\n\\r\\nSource and more information: http://en.wikipedia.org/wiki/Gabriel_García_Márquez'}"
      ]
     },
     "execution_count": 76,
     "metadata": {},
     "output_type": "execute_result"
    }
   ],
   "source": [
    "collection.find_one({'author': 'Gabriel García Márquez'})"
   ]
  },
  {
   "cell_type": "markdown",
   "id": "ccac56c4",
   "metadata": {},
   "source": [
    "### Adding amazon links to books documents from openlibary books api\n",
    "#### Please note here that the source_records under authors from the authors api wasn't proper, the amazon id's did not align to any book names for most source_records, hence I have used the books api to fetch amazon ids corresponding to the book names under the three authors present in our dataset"
   ]
  },
  {
   "cell_type": "code",
   "execution_count": 77,
   "id": "aa1d015e",
   "metadata": {},
   "outputs": [],
   "source": [
    "import json\n",
    "import re\n",
    "def add_links(author):\n",
    "    res = collection.find_one({'author': author})\n",
    "    for b in res['books']:\n",
    "        bb = collection.find_one({'book': b})\n",
    "        api_url = \"https://openlibrary.org/isbn/\" + bb['isbn'] + \".json\"\n",
    "        response = requests.get(api_url)\n",
    "        if 'source_records' in json.loads(response.text):\n",
    "            records = json.loads(response.text)['source_records']\n",
    "            r = re.compile(\"^amazon:\\d{10}$\")\n",
    "            link = list(filter(r.match, records))\n",
    "            query = {'book': b}\n",
    "            if(len(link)==0):\n",
    "                bi = { \"$set\": { \"amazon\": \"\" } }\n",
    "            else:\n",
    "                bi = { \"$set\": { \"amazon\": link[0][7:] } }\n",
    "            collection.update_one(query, bi)          "
   ]
  },
  {
   "cell_type": "code",
   "execution_count": 78,
   "id": "c0fd72c3",
   "metadata": {},
   "outputs": [],
   "source": [
    "add_links('Gabriel García Márquez')"
   ]
  },
  {
   "cell_type": "code",
   "execution_count": 79,
   "id": "d9aa295d",
   "metadata": {},
   "outputs": [],
   "source": [
    "add_links('J.K. Rowling')"
   ]
  },
  {
   "cell_type": "code",
   "execution_count": 80,
   "id": "d7e48e7b",
   "metadata": {},
   "outputs": [],
   "source": [
    "add_links('Stephen King')"
   ]
  },
  {
   "cell_type": "markdown",
   "id": "23136bb0",
   "metadata": {},
   "source": [
    "### Creating flask app for the microsite"
   ]
  },
  {
   "cell_type": "code",
   "execution_count": 85,
   "id": "b5623660",
   "metadata": {},
   "outputs": [],
   "source": [
    "from flask import Flask, request, render_template\n",
    "app = Flask(\"flask_demo\")\n",
    "\n",
    "@app.route('/')\n",
    "def index():\n",
    "    return render_template('cards.html', result=[\"J.K. Rowling\", \"Stephen King\", \"Gabriel García Márquez\"])\n",
    "\n",
    "@app.route('/author')\n",
    "def details():\n",
    "    name = request.args.get('name')\n",
    "    res = collection.find_one({'author': name})\n",
    "    links = []\n",
    "    for b in res['books']:\n",
    "        bb = collection.find_one({'book': b})\n",
    "        links.append(bb)\n",
    "    data = {'author': res, 'links': links}    \n",
    "    return render_template('authors.html', result=data)"
   ]
  },
  {
   "cell_type": "code",
   "execution_count": 87,
   "id": "1a3db284",
   "metadata": {},
   "outputs": [
    {
     "name": "stdout",
     "output_type": "stream",
     "text": [
      " * Serving Flask app \"flask_demo\" (lazy loading)\n",
      " * Environment: production\n",
      "\u001b[31m   WARNING: This is a development server. Do not use it in a production deployment.\u001b[0m\n",
      "\u001b[2m   Use a production WSGI server instead.\u001b[0m\n",
      " * Debug mode: off\n"
     ]
    },
    {
     "name": "stderr",
     "output_type": "stream",
     "text": [
      " * Running on http://localhost:5001/ (Press CTRL+C to quit)\n",
      "127.0.0.1 - - [15/Mar/2023 23:51:43] \"GET / HTTP/1.1\" 200 -\n",
      "127.0.0.1 - - [15/Mar/2023 23:51:45] \"GET /author?name=J.K.%20Rowling HTTP/1.1\" 200 -\n"
     ]
    }
   ],
   "source": [
    "app.run(host='localhost', port=5001)"
   ]
  },
  {
   "cell_type": "markdown",
   "id": "128c735a",
   "metadata": {},
   "source": [
    "### The books in the bio pages of each author does not all have links to amazon. On hovering over the names of the books, the ones with links are clickable elements. "
   ]
  },
  {
   "cell_type": "code",
   "execution_count": null,
   "id": "b8f20357",
   "metadata": {},
   "outputs": [],
   "source": []
  }
 ],
 "metadata": {
  "kernelspec": {
   "display_name": "Python 3 (ipykernel)",
   "language": "python",
   "name": "python3"
  },
  "language_info": {
   "codemirror_mode": {
    "name": "ipython",
    "version": 3
   },
   "file_extension": ".py",
   "mimetype": "text/x-python",
   "name": "python",
   "nbconvert_exporter": "python",
   "pygments_lexer": "ipython3",
   "version": "3.9.13"
  }
 },
 "nbformat": 4,
 "nbformat_minor": 5
}
