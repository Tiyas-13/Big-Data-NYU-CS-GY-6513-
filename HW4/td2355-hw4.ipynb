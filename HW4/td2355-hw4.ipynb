{
 "cells": [
  {
   "cell_type": "markdown",
   "id": "382e71a9",
   "metadata": {},
   "source": [
    "## Intsalling requirements and creating spark session"
   ]
  },
  {
   "cell_type": "code",
   "execution_count": null,
   "id": "4513fdc0",
   "metadata": {},
   "outputs": [],
   "source": [
    "!pip install pyspark"
   ]
  },
  {
   "cell_type": "code",
   "execution_count": 454,
   "id": "4ee6c956",
   "metadata": {},
   "outputs": [
    {
     "name": "stdout",
     "output_type": "stream",
     "text": [
      "Defaulting to user installation because normal site-packages is not writeable\n",
      "Requirement already satisfied: haversine in ./.local/lib/python3.8/site-packages (2.8.0)\n"
     ]
    }
   ],
   "source": [
    "!pip install haversine"
   ]
  },
  {
   "cell_type": "code",
   "execution_count": 393,
   "id": "eb0cbdaa",
   "metadata": {},
   "outputs": [],
   "source": [
    "from pyspark import SparkContext, SparkConf\n",
    "cf = SparkConf()\n",
    "cf.set(\"spark.submit.deployMode\", \"client\")\n",
    "sc = SparkContext.getOrCreate(cf)"
   ]
  },
  {
   "cell_type": "code",
   "execution_count": 394,
   "id": "60b3e7ae",
   "metadata": {},
   "outputs": [],
   "source": [
    "from pyspark.sql import SparkSession\n",
    "spark = SparkSession.builder.appName(\"temp\").config(\"spark.some.config.option\", \"some-value\").getOrCreate()"
   ]
  },
  {
   "cell_type": "code",
   "execution_count": 395,
   "id": "4f9e053f",
   "metadata": {},
   "outputs": [
    {
     "data": {
      "text/plain": [
       "<pyspark.conf.SparkConf at 0x7febe2489f40>"
      ]
     },
     "execution_count": 395,
     "metadata": {},
     "output_type": "execute_result"
    }
   ],
   "source": [
    "cf"
   ]
  },
  {
   "cell_type": "code",
   "execution_count": 396,
   "id": "67520329",
   "metadata": {},
   "outputs": [
    {
     "data": {
      "text/html": [
       "\n",
       "        <div>\n",
       "            <p><b>SparkContext</b></p>\n",
       "\n",
       "            <p><a href=\"http://nyu-dataproc-m.c.hpc-dataproc-19b8.internal:37281\">Spark UI</a></p>\n",
       "\n",
       "            <dl>\n",
       "              <dt>Version</dt>\n",
       "                <dd><code>v3.1.2</code></dd>\n",
       "              <dt>Master</dt>\n",
       "                <dd><code>yarn</code></dd>\n",
       "              <dt>AppName</dt>\n",
       "                <dd><code>pyspark-shell</code></dd>\n",
       "            </dl>\n",
       "        </div>\n",
       "        "
      ],
      "text/plain": [
       "<SparkContext master=yarn appName=pyspark-shell>"
      ]
     },
     "execution_count": 396,
     "metadata": {},
     "output_type": "execute_result"
    }
   ],
   "source": [
    "sc"
   ]
  },
  {
   "cell_type": "markdown",
   "id": "a1a75444",
   "metadata": {},
   "source": [
    "# Question 1"
   ]
  },
  {
   "cell_type": "code",
   "execution_count": 5,
   "id": "d126d8df",
   "metadata": {},
   "outputs": [
    {
     "name": "stderr",
     "output_type": "stream",
     "text": [
      "                                                                                \r"
     ]
    }
   ],
   "source": [
    "df1 = spark.read.csv('BreadBasket_DMS.csv', header=True)"
   ]
  },
  {
   "cell_type": "code",
   "execution_count": 6,
   "id": "c7c09e8e",
   "metadata": {},
   "outputs": [
    {
     "name": "stderr",
     "output_type": "stream",
     "text": [
      "[Stage 1:>                                                          (0 + 1) / 1]\r"
     ]
    },
    {
     "name": "stdout",
     "output_type": "stream",
     "text": [
      "+----------+--------+-----------+-------------+\n",
      "|      Date|    Time|Transaction|         Item|\n",
      "+----------+--------+-----------+-------------+\n",
      "|2016-10-30|09:58:11|          1|        Bread|\n",
      "|2016-10-30|10:05:34|          2| Scandinavian|\n",
      "|2016-10-30|10:05:34|          2| Scandinavian|\n",
      "|2016-10-30|10:07:57|          3|Hot chocolate|\n",
      "|2016-10-30|10:07:57|          3|          Jam|\n",
      "|2016-10-30|10:07:57|          3|      Cookies|\n",
      "|2016-10-30|10:08:41|          4|       Muffin|\n",
      "|2016-10-30|10:13:03|          5|       Coffee|\n",
      "|2016-10-30|10:13:03|          5|       Pastry|\n",
      "|2016-10-30|10:13:03|          5|        Bread|\n",
      "|2016-10-30|10:16:55|          6|    Medialuna|\n",
      "|2016-10-30|10:16:55|          6|       Pastry|\n",
      "|2016-10-30|10:16:55|          6|       Muffin|\n",
      "|2016-10-30|10:19:12|          7|    Medialuna|\n",
      "|2016-10-30|10:19:12|          7|       Pastry|\n",
      "|2016-10-30|10:19:12|          7|       Coffee|\n",
      "|2016-10-30|10:19:12|          7|          Tea|\n",
      "|2016-10-30|10:20:51|          8|       Pastry|\n",
      "|2016-10-30|10:20:51|          8|        Bread|\n",
      "|2016-10-30|10:21:59|          9|        Bread|\n",
      "+----------+--------+-----------+-------------+\n",
      "only showing top 20 rows\n",
      "\n"
     ]
    },
    {
     "name": "stderr",
     "output_type": "stream",
     "text": [
      "                                                                                \r"
     ]
    }
   ],
   "source": [
    "df1.show()"
   ]
  },
  {
   "cell_type": "code",
   "execution_count": 7,
   "id": "4e8ce3f3",
   "metadata": {},
   "outputs": [],
   "source": [
    "# time greater than equal to 9AM and less than 11PM\n",
    "from datetime import datetime, timedelta\n",
    "from dateutil.parser import parse\n",
    "time_var_1 = parse('9:00 AM')\n",
    "time_var_2 = parse('11:00 PM')\n",
    "df1 = df1.filter((df1.Time >= time_var_1) & (df1.Time < time_var_2))\n",
    "df1.createOrReplaceTempView(\"items\")"
   ]
  },
  {
   "cell_type": "code",
   "execution_count": 8,
   "id": "afee9a9a",
   "metadata": {},
   "outputs": [],
   "source": [
    "df3 = spark.sql(\"SELECT Count(Item), Item FROM items GROUP BY Item ORDER BY Count(Item) DESC\")"
   ]
  },
  {
   "cell_type": "markdown",
   "id": "bc371968",
   "metadata": {},
   "source": [
    "### Answer to Question 1"
   ]
  },
  {
   "cell_type": "code",
   "execution_count": 9,
   "id": "619439a5",
   "metadata": {},
   "outputs": [
    {
     "name": "stderr",
     "output_type": "stream",
     "text": [
      "[Stage 4:>                                                         (0 + 8) / 18]\r"
     ]
    },
    {
     "name": "stdout",
     "output_type": "stream",
     "text": [
      "+-----------+------+\n",
      "|count(Item)|  Item|\n",
      "+-----------+------+\n",
      "|       5259|Coffee|\n",
      "|       3151| Bread|\n",
      "|       1414|   Tea|\n",
      "|       1017|  Cake|\n",
      "|        797|Pastry|\n",
      "+-----------+------+\n",
      "only showing top 5 rows\n",
      "\n"
     ]
    },
    {
     "name": "stderr",
     "output_type": "stream",
     "text": [
      "                                                                                \r"
     ]
    }
   ],
   "source": [
    "df3.show(5) #top 5 items"
   ]
  },
  {
   "cell_type": "markdown",
   "id": "edf4253b",
   "metadata": {},
   "source": [
    "# Question 2"
   ]
  },
  {
   "cell_type": "code",
   "execution_count": 141,
   "id": "cead9f86",
   "metadata": {},
   "outputs": [],
   "source": [
    "rdf = df1 = spark.read.options(delimiter=';').csv('Restaurants_in_Durham_County_NC.csv', header=True)"
   ]
  },
  {
   "cell_type": "code",
   "execution_count": 142,
   "id": "5ff68f66",
   "metadata": {},
   "outputs": [
    {
     "data": {
      "text/plain": [
       "DataFrame[ID: string, Premise_Name: string, Premise_Address1: string, Premise_Address2: string, Premise_City: string, Premise_State: string, Premise_Zip: string, Premise_Phone: string, Hours_Of_Operation: string, Opening_Date: string, Closing_Date: string, Seats: string, Water: string, Sewage: string, Insp_Freq: string, Est_Group_Desc: string, Risk: string, Smoking_Allowed: string, Type_Description: string, Rpt_Area_Desc: string, Status: string, Transitional_Type_Desc: string, geolocation: string]"
      ]
     },
     "execution_count": 142,
     "metadata": {},
     "output_type": "execute_result"
    }
   ],
   "source": [
    "rdf"
   ]
  },
  {
   "cell_type": "code",
   "execution_count": 143,
   "id": "7c603ed3",
   "metadata": {},
   "outputs": [
    {
     "name": "stdout",
     "output_type": "stream",
     "text": [
      "+----------------+\n",
      "|   Rpt_Area_Desc|\n",
      "+----------------+\n",
      "|    Food Service|\n",
      "|    Food Service|\n",
      "|    Food Service|\n",
      "|    Food Service|\n",
      "|Residential Care|\n",
      "|Residential Care|\n",
      "|        Day Care|\n",
      "|  Swimming Pools|\n",
      "|  Swimming Pools|\n",
      "|  Swimming Pools|\n",
      "+----------------+\n",
      "only showing top 10 rows\n",
      "\n"
     ]
    }
   ],
   "source": [
    "rdf.select(\"Rpt_Area_Desc\").show(10)"
   ]
  },
  {
   "cell_type": "code",
   "execution_count": 144,
   "id": "3880653a",
   "metadata": {},
   "outputs": [],
   "source": [
    "rdf.createOrReplaceTempView(\"entities\")\n",
    "rdf2 = spark.sql(\"SELECT Count(ID), Rpt_Area_Desc FROM entities GROUP BY Rpt_Area_Desc\")"
   ]
  },
  {
   "cell_type": "markdown",
   "id": "8cbb31b5",
   "metadata": {},
   "source": [
    "### Answer to Question 2"
   ]
  },
  {
   "cell_type": "code",
   "execution_count": 145,
   "id": "4d786aea",
   "metadata": {},
   "outputs": [
    {
     "name": "stdout",
     "output_type": "stream",
     "text": [
      "+---------+--------------------+\n",
      "|count(ID)|       Rpt_Area_Desc|\n",
      "+---------+--------------------+\n",
      "|        4|  Bed&Breakfast Home|\n",
      "|        4|        Summer Camps|\n",
      "|       30|        Institutions|\n",
      "|        2|   Local Confinement|\n",
      "|      147|         Mobile Food|\n",
      "|       89|    School Buildings|\n",
      "|       13|                null|\n",
      "|      242|         Summer Food|\n",
      "|      420|      Swimming Pools|\n",
      "|      173|            Day Care|\n",
      "|       32|Tattoo Establishm...|\n",
      "|      154|    Residential Care|\n",
      "|        2|   Bed&Breakfast Inn|\n",
      "|        5|      Adult Day Care|\n",
      "|       62|             Lodging|\n",
      "|     1093|        Food Service|\n",
      "+---------+--------------------+\n",
      "\n"
     ]
    }
   ],
   "source": [
    "rdf2.show()"
   ]
  },
  {
   "cell_type": "markdown",
   "id": "2774fb94",
   "metadata": {},
   "source": [
    "## Question 3"
   ]
  },
  {
   "cell_type": "code",
   "execution_count": 64,
   "id": "3b45b5fe",
   "metadata": {},
   "outputs": [],
   "source": [
    "pdf = spark.read.csv('populationbycountry19802010millions.csv', header=True)"
   ]
  },
  {
   "cell_type": "code",
   "execution_count": 65,
   "id": "cb7fdbcd",
   "metadata": {},
   "outputs": [
    {
     "name": "stdout",
     "output_type": "stream",
     "text": [
      "+-------------+---------+---------+---------+---------+---------+---------+---------+---------+--------+---------+--------+---------+---------+---------+--------+---------+--------+---------+---------+---------+--------+---------+---------+---------+---------+---------+---------+---------+---------+---------+---------+\n",
      "|          _c0|     1980|     1981|     1982|     1983|     1984|     1985|     1986|     1987|    1988|     1989|    1990|     1991|     1992|     1993|    1994|     1995|    1996|     1997|     1998|     1999|    2000|     2001|     2002|     2003|     2004|     2005|     2006|     2007|     2008|     2009|     2010|\n",
      "+-------------+---------+---------+---------+---------+---------+---------+---------+---------+--------+---------+--------+---------+---------+---------+--------+---------+--------+---------+---------+---------+--------+---------+---------+---------+---------+---------+---------+---------+---------+---------+---------+\n",
      "|North America|320.27638|324.44694|328.62014|332.72487|336.72143|340.74811|344.89548|349.07829|353.2939|357.68457|362.4468|367.70684|373.29069|378.74233|383.9166|388.97216|393.9428|398.97205|403.85585|408.60296|413.3245|417.83236|422.05268|426.06238|430.26938|434.47232|438.82964| 443.3473|447.67394|451.83698|456.59331|\n",
      "|      Bermuda|  0.05473|  0.05491|  0.05517|  0.05551|  0.05585|  0.05618|  0.05651|  0.05683| 0.05717|  0.05749| 0.05778|   0.0581|   0.0587|  0.05924| 0.05975|  0.06029| 0.06087|  0.06145|  0.06198|  0.06251| 0.06306|  0.06361|  0.06418|  0.06476|  0.06534|  0.06591|  0.06644|  0.06692|  0.06739|  0.06784|  0.06827|\n",
      "|       Canada|  24.5933|     24.9|  25.2019|  25.4563|  25.7018|  25.9416|  26.2038|  26.5497| 26.8948|  27.3793| 27.7906|  28.1179| 28.54489| 28.95334|29.33081| 29.69053|30.02632|  30.3056| 30.55166| 30.82026|31.09956| 31.37674| 31.64096| 31.88931| 32.13476| 32.38638| 32.65668| 32.93596|  33.2127| 33.48721| 33.75974|\n",
      "|    Greenland|  0.05021|  0.05103|  0.05166|  0.05211|  0.05263|  0.05315|  0.05364|   0.0541| 0.05485|  0.05541| 0.05563|  0.05554|  0.05549|  0.05564| 0.05592|  0.05619| 0.05634|  0.05651|  0.05661|   0.0567| 0.05689|  0.05713|  0.05736|  0.05754|   0.0577|  0.05778|  0.05764|  0.05753|  0.05756|   0.0576|  0.05764|\n",
      "|       Mexico| 68.34748| 69.96926|  71.6409| 73.36288| 75.08014| 76.76723| 78.44243| 80.12249|81.78182| 83.36684|84.91365| 86.48803| 88.11103| 89.74914| 91.3379| 92.88035|94.39858| 95.89515| 97.32506| 98.61691|99.92662|101.24696|102.47993|103.71806|104.95959| 106.2029|107.44953|108.70089| 109.9554|111.21179|112.46886|\n",
      "+-------------+---------+---------+---------+---------+---------+---------+---------+---------+--------+---------+--------+---------+---------+---------+--------+---------+--------+---------+---------+---------+--------+---------+---------+---------+---------+---------+---------+---------+---------+---------+---------+\n",
      "only showing top 5 rows\n",
      "\n"
     ]
    }
   ],
   "source": [
    "pdf.show(5)"
   ]
  },
  {
   "cell_type": "code",
   "execution_count": 66,
   "id": "21ce36eb",
   "metadata": {},
   "outputs": [],
   "source": [
    "from pyspark.sql.functions import col, round, max, min\n",
    "df_percent_change = pdf.select(\"_c0\", *[round((((col(year) - col(str(int(year)-1))) / col(str(int(year)-1))) * 100), 2).alias(year) for year in df.columns[2:]])\n",
    "\n",
    "# Stacking the columns to get the year and percent change in separate rows\n",
    "columns_expr = [f\"`{year}`, {year}\" for year in df_percent_change.columns[1:]]\n",
    "columns_str = \", \".join(columns_expr)\n",
    "df_percent_change = df_percent_change.selectExpr(f\"stack(31, {columns_str}) as (PercentChange, Year)\", \"_c0 as Country\")\n",
    "\n",
    "# Getting the country with the maximum population change for each year\n",
    "df_max_percent_change = df_percent_change.groupBy(\"Year\").agg(max(\"PercentChange\").alias(\"MaxPercentChange\"))\n",
    "df_max_percent_change = df_max_percent_change.join(df_percent_change, (df_max_percent_change.Year == df_percent_change.Year) & (df_max_percent_change.MaxPercentChange == col(\"PercentChange\")), \"inner\").select(\"Country\", df_max_percent_change.Year, df_max_percent_change.MaxPercentChange)\n",
    "\n",
    "# Getting the country with the minimum population change for each year\n",
    "df_min_percent_change = df_percent_change.groupBy(\"Year\").agg(min(\"PercentChange\").alias(\"MinPercentChange\"))\n",
    "df_min_percent_change = df_min_percent_change.join(df_percent_change, (df_min_percent_change.Year == df_percent_change.Year) & (df_min_percent_change.MinPercentChange == col(\"PercentChange\")), \"inner\").select(\"Country\", df_min_percent_change.Year, df_min_percent_change.MinPercentChange)"
   ]
  },
  {
   "cell_type": "code",
   "execution_count": 67,
   "id": "3588b61e",
   "metadata": {},
   "outputs": [
    {
     "name": "stdout",
     "output_type": "stream",
     "text": [
      "+--------------------+----+----------------+\n",
      "|             Country|Year|MaxPercentChange|\n",
      "+--------------------+----+----------------+\n",
      "|      Western Sahara|1981|           12.13|\n",
      "|      Western Sahara|1982|           11.12|\n",
      "|       French Guiana|1983|           14.29|\n",
      "|        Saint Helena|1984|           10.96|\n",
      "|               Qatar|1984|           10.96|\n",
      "|       French Guiana|1985|            12.5|\n",
      "|               Qatar|1986|            8.77|\n",
      "|       French Guiana|1987|           11.11|\n",
      "|      Cayman Islands|1988|           11.01|\n",
      "|United Arab Emirates|1989|            6.12|\n",
      "|            Djibouti|1990|           12.82|\n",
      "|              Jordan|1991|           11.27|\n",
      "|              Kuwait|1992|           48.63|\n",
      "|         Afghanistan|1993|           13.22|\n",
      "|         Afghanistan|1994|            8.73|\n",
      "|             Burundi|1995|            7.22|\n",
      "|              Rwanda|1996|           19.61|\n",
      "|Falkland Islands ...|1997|            21.5|\n",
      "|             Liberia|1998|           12.02|\n",
      "|Falkland Islands ...|1999|            7.69|\n",
      "|          Montserrat|2000|           16.86|\n",
      "|          Montserrat|2001|            7.34|\n",
      "|          Montserrat|2002|           13.44|\n",
      "|         Afghanistan|2003|             5.8|\n",
      "|          Montserrat|2004|           10.47|\n",
      "|             Liberia|2005|             4.8|\n",
      "|              Jordan|2006|            7.09|\n",
      "|              Jordan|2007|            6.76|\n",
      "|          Montserrat|2008|           12.64|\n",
      "|             Liberia|2009|            4.16|\n",
      "|               Niger|2010|            3.74|\n",
      "+--------------------+----+----------------+\n",
      "\n"
     ]
    }
   ],
   "source": [
    "df_max_percent_change.orderBy('Year').show(31)"
   ]
  },
  {
   "cell_type": "code",
   "execution_count": 68,
   "id": "ead84238",
   "metadata": {},
   "outputs": [
    {
     "name": "stdout",
     "output_type": "stream",
     "text": [
      "+--------------------+----+----------------+\n",
      "|             Country|Year|MinPercentChange|\n",
      "+--------------------+----+----------------+\n",
      "|         Afghanistan|1981|           -9.11|\n",
      "|         Afghanistan|1982|           -8.02|\n",
      "| Antigua and Barbuda|1983|           -3.51|\n",
      "| Antigua and Barbuda|1984|           -1.75|\n",
      "|        Cook Islands|1985|           -1.41|\n",
      "|Netherlands Antilles|1986|          -24.59|\n",
      "|        Saint Helena|1987|           -21.3|\n",
      "|          Mozambique|1988|           -2.88|\n",
      "|             Somalia|1989|            -2.2|\n",
      "|             Liberia|1990|          -12.82|\n",
      "|              Kuwait|1991|          -55.45|\n",
      "|             Somalia|1992|           -5.39|\n",
      "|Bosnia and Herzeg...|1993|           -7.07|\n",
      "|              Rwanda|1994|          -14.36|\n",
      "|              Rwanda|1995|          -15.87|\n",
      "|          Montserrat|1996|          -22.59|\n",
      "|          Montserrat|1997|          -25.16|\n",
      "|          Montserrat|1998|          -43.19|\n",
      "|        Cook Islands|1999|           -2.99|\n",
      "|        Cook Islands|2000|           -3.26|\n",
      "|        Cook Islands|2001|           -3.56|\n",
      "|        Cook Islands|2002|           -3.69|\n",
      "|          Montserrat|2003|           -6.65|\n",
      "|            Djibouti|2004|           -4.83|\n",
      "|          Montserrat|2005|           -8.67|\n",
      "|               Nauru|2006|            -4.4|\n",
      "|               Nauru|2007|            -4.7|\n",
      "|        Cook Islands|2008|           -3.31|\n",
      "|        Cook Islands|2009|           -3.26|\n",
      "|        Cook Islands|2010|            -3.2|\n",
      "+--------------------+----+----------------+\n",
      "\n"
     ]
    }
   ],
   "source": [
    "df_min_percent_change.orderBy('Year').show(31)"
   ]
  },
  {
   "cell_type": "code",
   "execution_count": 73,
   "id": "a8bdf17c",
   "metadata": {},
   "outputs": [],
   "source": [
    "df_max_percent_change = df_max_percent_change.withColumnRenamed(\"Country\", \"Max Country\")\n",
    "df_max_percent_change = df_max_percent_change.withColumnRenamed(\"MaxPercentChange\", \"Max Percentage Change (%)\")"
   ]
  },
  {
   "cell_type": "code",
   "execution_count": 74,
   "id": "7b16c95e",
   "metadata": {},
   "outputs": [],
   "source": [
    "df_min_percent_change = df_min_percent_change.withColumnRenamed(\"Country\", \"Min Country\")\n",
    "df_min_percent_change = df_min_percent_change.withColumnRenamed(\"MinPercentChange\", \"Min Percentage Change (%)\")"
   ]
  },
  {
   "cell_type": "code",
   "execution_count": 75,
   "id": "d355e810",
   "metadata": {},
   "outputs": [],
   "source": [
    "df_combined = df_max_percent_change.join(\n",
    "    df_min_percent_change.select('Min Country', 'Min Percentage Change (%)', 'Year'),\n",
    "    on='Year'\n",
    ")"
   ]
  },
  {
   "cell_type": "markdown",
   "id": "9bb53cc1",
   "metadata": {},
   "source": [
    "### Answer to Question 3"
   ]
  },
  {
   "cell_type": "code",
   "execution_count": 76,
   "id": "1338cabc",
   "metadata": {},
   "outputs": [
    {
     "name": "stdout",
     "output_type": "stream",
     "text": [
      "+----+---------------------------------+-------------------------+----------------------+-------------------------+\n",
      "|Year|Max Country                      |Max Percentage Change (%)|Min Country           |Min Percentage Change (%)|\n",
      "+----+---------------------------------+-------------------------+----------------------+-------------------------+\n",
      "|1981|Western Sahara                   |12.13                    |Afghanistan           |-9.11                    |\n",
      "|1982|Western Sahara                   |11.12                    |Afghanistan           |-8.02                    |\n",
      "|1983|French Guiana                    |14.29                    |Antigua and Barbuda   |-3.51                    |\n",
      "|1984|Qatar                            |10.96                    |Antigua and Barbuda   |-1.75                    |\n",
      "|1984|Saint Helena                     |10.96                    |Antigua and Barbuda   |-1.75                    |\n",
      "|1985|French Guiana                    |12.5                     |Cook Islands          |-1.41                    |\n",
      "|1986|Qatar                            |8.77                     |Netherlands Antilles  |-24.59                   |\n",
      "|1987|French Guiana                    |11.11                    |Saint Helena          |-21.3                    |\n",
      "|1988|Cayman Islands                   |11.01                    |Mozambique            |-2.88                    |\n",
      "|1989|United Arab Emirates             |6.12                     |Somalia               |-2.2                     |\n",
      "|1990|Djibouti                         |12.82                    |Liberia               |-12.82                   |\n",
      "|1991|Jordan                           |11.27                    |Kuwait                |-55.45                   |\n",
      "|1992|Kuwait                           |48.63                    |Somalia               |-5.39                    |\n",
      "|1993|Afghanistan                      |13.22                    |Bosnia and Herzegovina|-7.07                    |\n",
      "|1994|Afghanistan                      |8.73                     |Rwanda                |-14.36                   |\n",
      "|1995|Burundi                          |7.22                     |Rwanda                |-15.87                   |\n",
      "|1996|Rwanda                           |19.61                    |Montserrat            |-22.59                   |\n",
      "|1997|Falkland Islands (Islas Malvinas)|21.5                     |Montserrat            |-25.16                   |\n",
      "|1998|Liberia                          |12.02                    |Montserrat            |-43.19                   |\n",
      "|1999|Falkland Islands (Islas Malvinas)|7.69                     |Cook Islands          |-2.99                    |\n",
      "|2000|Montserrat                       |16.86                    |Cook Islands          |-3.26                    |\n",
      "|2001|Montserrat                       |7.34                     |Cook Islands          |-3.56                    |\n",
      "|2002|Montserrat                       |13.44                    |Cook Islands          |-3.69                    |\n",
      "|2003|Afghanistan                      |5.8                      |Montserrat            |-6.65                    |\n",
      "|2004|Montserrat                       |10.47                    |Djibouti              |-4.83                    |\n",
      "|2005|Liberia                          |4.8                      |Montserrat            |-8.67                    |\n",
      "|2006|Jordan                           |7.09                     |Nauru                 |-4.4                     |\n",
      "|2007|Jordan                           |6.76                     |Nauru                 |-4.7                     |\n",
      "|2008|Montserrat                       |12.64                    |Cook Islands          |-3.31                    |\n",
      "|2009|Liberia                          |4.16                     |Cook Islands          |-3.26                    |\n",
      "|2010|Niger                            |3.74                     |Cook Islands          |-3.2                     |\n",
      "+----+---------------------------------+-------------------------+----------------------+-------------------------+\n",
      "\n"
     ]
    }
   ],
   "source": [
    "df_combined.orderBy('Year').show(31,truncate=False)"
   ]
  },
  {
   "cell_type": "markdown",
   "id": "4b198a32",
   "metadata": {},
   "source": [
    "## Question 4"
   ]
  },
  {
   "cell_type": "code",
   "execution_count": 83,
   "id": "0125f58f",
   "metadata": {},
   "outputs": [],
   "source": [
    "text_file = spark.read.text(\"romeo-juliet-pg1777.txt\")"
   ]
  },
  {
   "cell_type": "code",
   "execution_count": 95,
   "id": "6bac69c1",
   "metadata": {},
   "outputs": [],
   "source": [
    "clean_text = text_file.select(lower(regexp_replace(\"value\", \"[^0-9a-zA-Z\\\\s]\", \"\")).alias(\"text\"))"
   ]
  },
  {
   "cell_type": "code",
   "execution_count": 96,
   "id": "9f5d2d65",
   "metadata": {},
   "outputs": [
    {
     "name": "stdout",
     "output_type": "stream",
     "text": [
      "+-----------------------------------------------------------------+\n",
      "|text                                                             |\n",
      "+-----------------------------------------------------------------+\n",
      "|                                                                 |\n",
      "|this etext file is presented by project gutenberg in             |\n",
      "|cooperation with world library inc from their library of the     |\n",
      "|future and shakespeare cdroms  project gutenberg often releases  |\n",
      "|etexts that are not placed in the public domain                  |\n",
      "|                                                                 |\n",
      "|this etext has certain copyright implications you should read    |\n",
      "|                                                                 |\n",
      "|this electronic version of the complete works of william         |\n",
      "|shakespeare is copyright 19901993 by world library inc and is    |\n",
      "|provided by project gutenberg with permission  electronic and    |\n",
      "|machine readable copies may be distributed so long as such copies|\n",
      "|1 are for your or others personal use only and 2 are not         |\n",
      "|distributed or used commercially  prohibited commercial          |\n",
      "|distribution includes by any service that charges for download   |\n",
      "|time or for membership                                           |\n",
      "|                                                                 |\n",
      "|project gutenberg is proud to cooperate with the world library   |\n",
      "|in the presentation of the complete works of william shakespeare |\n",
      "|for your reading for education and entertainment  however this   |\n",
      "+-----------------------------------------------------------------+\n",
      "only showing top 20 rows\n",
      "\n"
     ]
    }
   ],
   "source": [
    "clean_text.show(truncate=False)"
   ]
  },
  {
   "cell_type": "code",
   "execution_count": 126,
   "id": "8a595ca1",
   "metadata": {},
   "outputs": [],
   "source": [
    "words = clean_text.select(explode(split(\"text\", \"\\\\s+\")).alias(\"word\"))"
   ]
  },
  {
   "cell_type": "code",
   "execution_count": 127,
   "id": "5ed343ae",
   "metadata": {},
   "outputs": [],
   "source": [
    "words = words.filter(words.word != '') #removing blanks"
   ]
  },
  {
   "cell_type": "code",
   "execution_count": 128,
   "id": "48a47f9b",
   "metadata": {},
   "outputs": [
    {
     "name": "stdout",
     "output_type": "stream",
     "text": [
      "+-----------+\n",
      "|       word|\n",
      "+-----------+\n",
      "|       this|\n",
      "|      etext|\n",
      "|       file|\n",
      "|         is|\n",
      "|  presented|\n",
      "|         by|\n",
      "|    project|\n",
      "|  gutenberg|\n",
      "|         in|\n",
      "|cooperation|\n",
      "|       with|\n",
      "|      world|\n",
      "|    library|\n",
      "|        inc|\n",
      "|       from|\n",
      "|      their|\n",
      "|    library|\n",
      "|         of|\n",
      "|        the|\n",
      "|     future|\n",
      "+-----------+\n",
      "only showing top 20 rows\n",
      "\n"
     ]
    }
   ],
   "source": [
    "words.show()"
   ]
  },
  {
   "cell_type": "code",
   "execution_count": 129,
   "id": "d2932342",
   "metadata": {},
   "outputs": [],
   "source": [
    "word_counts = words.groupBy(\"word\").agg(count(\"*\").alias(\"count\")).orderBy(\"count\", ascending=False)"
   ]
  },
  {
   "cell_type": "markdown",
   "id": "d1b13766",
   "metadata": {},
   "source": [
    "### Answer to Question 4"
   ]
  },
  {
   "cell_type": "code",
   "execution_count": 130,
   "id": "58c0c40d",
   "metadata": {},
   "outputs": [
    {
     "name": "stdout",
     "output_type": "stream",
     "text": [
      "+----+-----+\n",
      "|word|count|\n",
      "+----+-----+\n",
      "|and |773  |\n",
      "|the |748  |\n",
      "|i   |585  |\n",
      "|to  |580  |\n",
      "|a   |483  |\n",
      "|of  |474  |\n",
      "|is  |383  |\n",
      "|that|365  |\n",
      "|my  |360  |\n",
      "|in  |328  |\n",
      "|you |323  |\n",
      "|thou|277  |\n",
      "|not |275  |\n",
      "|with|268  |\n",
      "|for |267  |\n",
      "|me  |265  |\n",
      "|this|258  |\n",
      "|it  |237  |\n",
      "|be  |234  |\n",
      "|but |186  |\n",
      "+----+-----+\n",
      "only showing top 20 rows\n",
      "\n"
     ]
    }
   ],
   "source": [
    "word_counts.show(truncate=False) #dataframe countains count of all words"
   ]
  },
  {
   "cell_type": "code",
   "execution_count": 132,
   "id": "8f876a5c",
   "metadata": {},
   "outputs": [
    {
     "data": {
      "text/plain": [
       "4065"
      ]
     },
     "execution_count": 132,
     "metadata": {},
     "output_type": "execute_result"
    }
   ],
   "source": [
    "word_counts.count()"
   ]
  },
  {
   "cell_type": "markdown",
   "id": "dc1da8a9",
   "metadata": {},
   "source": [
    "## Question 5"
   ]
  },
  {
   "cell_type": "code",
   "execution_count": 743,
   "id": "216d1b8b",
   "metadata": {},
   "outputs": [],
   "source": [
    "foreclosures = spark.read.json('durham-nc-foreclosure-2006-2016.json')"
   ]
  },
  {
   "cell_type": "code",
   "execution_count": 744,
   "id": "248ad324",
   "metadata": {},
   "outputs": [
    {
     "name": "stdout",
     "output_type": "stream",
     "text": [
      "+--------------------+--------------------+--------------------+--------------------+--------------------+\n",
      "|           datasetid|              fields|            geometry|    record_timestamp|            recordid|\n",
      "+--------------------+--------------------+--------------------+--------------------+--------------------+\n",
      "|foreclosure-2006-...|{217 E CORPORATIO...|{[-78.8922549, 36...|2017-03-06T12:41:...|629979c85b1cc68c1...|\n",
      "|foreclosure-2006-...|{401 N QUEEN ST, ...|{[-78.895396, 35....|2017-03-06T12:41:...|e3cce8bbc3c9b804c...|\n",
      "|foreclosure-2006-...|{403 N QUEEN ST, ...|{[-78.8950321, 35...|2017-03-06T12:41:...|311559ebfeffe7ebc...|\n",
      "|foreclosure-2006-...|{918 GILBERT ST, ...|{[-78.8873774, 35...|2017-03-06T12:41:...|7ec0761bd385bab8a...|\n",
      "|foreclosure-2006-...|{721 LIBERTY ST, ...|{[-78.888343, 35....|2017-03-06T12:41:...|c81ae2921ffca8125...|\n",
      "|foreclosure-2006-...|{729 HOPKINS ST, ...|{[-78.888092, 35....|2017-03-06T12:41:...|ae17ea44c5918fd2d...|\n",
      "|foreclosure-2006-...|{1302 E MAIN ST, ...|{[-78.886681, 35....|2017-03-06T12:41:...|33bcfab5aa69ed55e...|\n",
      "|foreclosure-2006-...|{402 CLAY ST, [35...|{[-78.8806365, 35...|2017-03-06T12:41:...|0322e07438201c6cf...|\n",
      "|foreclosure-2006-...|{1516 LATHROP ST,...|{[-78.874621, 35....|2017-03-06T12:41:...|f88a039e24c4182df...|\n",
      "|foreclosure-2006-...|{2604 E MAIN ST, ...|{[-78.869642, 35....|2017-03-06T12:41:...|54b29375c19aff597...|\n",
      "|foreclosure-2006-...|{209 NELSON ST, [...|{[-78.9041979, 35...|2017-03-06T12:41:...|1644733ddb6c7f3b1...|\n",
      "|foreclosure-2006-...|{2721 ATLANTIC ST...|{[-78.9060606, 35...|2017-03-06T12:41:...|97d53f9a363445bd3...|\n",
      "|foreclosure-2006-...|{518 RED OAK AVE,...|{[-78.903483, 35....|2017-03-06T12:41:...|64e85ba0cbf6272c1...|\n",
      "|foreclosure-2006-...|{ROXBORO ST, [36....|{[-78.8960511, 36...|2017-03-06T12:41:...|be817e36d57bd79b5...|\n",
      "|foreclosure-2006-...|{1420 WABASH ST, ...|{[-78.890249, 35....|2017-03-06T12:41:...|65d1396789609f295...|\n",
      "|foreclosure-2006-...|{500 POTTER ST, [...|{[-78.889404, 35....|2017-03-06T12:41:...|e4a0a58d755c8a9eb...|\n",
      "|foreclosure-2006-...|{2820 ANGIER AVE,...|{[-78.8692657, 35...|2017-03-06T12:41:...|a778f7cda928028c8...|\n",
      "|foreclosure-2006-...|{2822 ANGIER AVE,...|{[-78.868701, 35....|2017-03-06T12:41:...|aad612d17ffbddb4e...|\n",
      "|foreclosure-2006-...|{515 BACON ST, [3...|{[-78.882454, 35....|2017-03-06T12:41:...|e4c35ab6d0af22b85...|\n",
      "|foreclosure-2006-...|{418 SOWELL ST, [...|{[-78.8873413, 35...|2017-03-06T12:41:...|65606f3b8531c5e7a...|\n",
      "+--------------------+--------------------+--------------------+--------------------+--------------------+\n",
      "only showing top 20 rows\n",
      "\n"
     ]
    }
   ],
   "source": [
    "foreclosures.show()"
   ]
  },
  {
   "cell_type": "code",
   "execution_count": 745,
   "id": "422ae6b4",
   "metadata": {},
   "outputs": [],
   "source": [
    "restaurants = rdf.filter((rdf.Rpt_Area_Desc == 'Food Service') & (rdf.Status=='ACTIVE'))"
   ]
  },
  {
   "cell_type": "code",
   "execution_count": 746,
   "id": "93fb9e96",
   "metadata": {},
   "outputs": [
    {
     "name": "stdout",
     "output_type": "stream",
     "text": [
      "+-----+------------------------+-----------------------+\n",
      "|ID   |Premise_Name            |geolocation            |\n",
      "+-----+------------------------+-----------------------+\n",
      "|56060|WEST 94TH ST PUB        |35.9207272, -78.9573299|\n",
      "|58123|BROOKDALE DURHAM IFS    |36.0467802, -78.8895483|\n",
      "|70266|SMOOTHIE KING           |35.9182655, -78.9593263|\n",
      "|97837|HAMPTON INN & SUITES    |36.0183378, -78.9060312|\n",
      "|58349|KROGER R 381 MEAT MARKET|35.9495321, -78.9211694|\n",
      "+-----+------------------------+-----------------------+\n",
      "only showing top 5 rows\n",
      "\n"
     ]
    }
   ],
   "source": [
    "restaurants_2 = restaurants.select(\"ID\", \"Premise_Name\", \"geolocation\")\n",
    "restaurants_2.show(5, truncate=False)"
   ]
  },
  {
   "cell_type": "code",
   "execution_count": 747,
   "id": "2a2d11b2",
   "metadata": {},
   "outputs": [],
   "source": [
    "ab = foreclosures.select(\"geometry\").collect()\n",
    "bd = restaurants_2.select(\"geolocation\").collect()"
   ]
  },
  {
   "cell_type": "code",
   "execution_count": 748,
   "id": "b1d87a19",
   "metadata": {},
   "outputs": [
    {
     "data": {
      "text/plain": [
       "list"
      ]
     },
     "execution_count": 748,
     "metadata": {},
     "output_type": "execute_result"
    }
   ],
   "source": [
    "type(ab[0][0].coordinates)"
   ]
  },
  {
   "cell_type": "code",
   "execution_count": 749,
   "id": "83d17b9a",
   "metadata": {},
   "outputs": [
    {
     "data": {
      "text/plain": [
       "'35.9207272, -78.9573299'"
      ]
     },
     "execution_count": 749,
     "metadata": {},
     "output_type": "execute_result"
    }
   ],
   "source": [
    "bd[0][0]"
   ]
  },
  {
   "cell_type": "code",
   "execution_count": 750,
   "id": "d8a8d6b2",
   "metadata": {},
   "outputs": [],
   "source": [
    "foreclosures_2 = foreclosures.select(col(\"fields.geocode\")[0].alias(\"lat1\"), col(\"fields.geocode\")[1].alias(\"lon1\"))"
   ]
  },
  {
   "cell_type": "code",
   "execution_count": 751,
   "id": "12a231c0",
   "metadata": {},
   "outputs": [
    {
     "name": "stdout",
     "output_type": "stream",
     "text": [
      "+----------+-----------+\n",
      "|lat1      |lon1       |\n",
      "+----------+-----------+\n",
      "|36.0013755|-78.8922549|\n",
      "|35.995797 |-78.895396 |\n",
      "|35.995413 |-78.8950321|\n",
      "|35.9957683|-78.8873774|\n",
      "|35.993026 |-78.888343 |\n",
      "|35.99217  |-78.888092 |\n",
      "|35.9865799|-78.886681 |\n",
      "|35.9815968|-78.8806365|\n",
      "|35.992438 |-78.874621 |\n",
      "|35.985903 |-78.869642 |\n",
      "|35.97299  |-78.9041979|\n",
      "|35.9666667|-78.9060606|\n",
      "|35.965573 |-78.903483 |\n",
      "|36.0367999|-78.8960511|\n",
      "|35.972325 |-78.890249 |\n",
      "|35.978108 |-78.889404 |\n",
      "|35.976643 |-78.8692657|\n",
      "|35.97492  |-78.868701 |\n",
      "|35.979723 |-78.882454 |\n",
      "|35.9803659|-78.8873413|\n",
      "+----------+-----------+\n",
      "only showing top 20 rows\n",
      "\n"
     ]
    }
   ],
   "source": [
    "foreclosures_2.show(truncate=False)"
   ]
  },
  {
   "cell_type": "code",
   "execution_count": 752,
   "id": "3fb8c265",
   "metadata": {},
   "outputs": [],
   "source": [
    "restaurants_3 = restaurants_2.select(col(\"ID\"), col(\"Premise_Name\"), split(col(\"geolocation\"), \",\")[0].cast(\"double\").alias(\"lat2\"), \n",
    "            split(col(\"geolocation\"), \",\")[1].cast(\"double\").alias(\"lon2\"))"
   ]
  },
  {
   "cell_type": "code",
   "execution_count": 753,
   "id": "8ec5cbdc",
   "metadata": {},
   "outputs": [
    {
     "name": "stdout",
     "output_type": "stream",
     "text": [
      "+------+--------------------+----------+-----------+\n",
      "|    ID|        Premise_Name|      lat2|       lon2|\n",
      "+------+--------------------+----------+-----------+\n",
      "| 56060|    WEST 94TH ST PUB|35.9207272|-78.9573299|\n",
      "| 58123|BROOKDALE DURHAM IFS|36.0467802|-78.8895483|\n",
      "| 70266|       SMOOTHIE KING|35.9182655|-78.9593263|\n",
      "| 97837|HAMPTON INN & SUITES|36.0183378|-78.9060312|\n",
      "| 58349|KROGER R 381 MEAT...|35.9495321|-78.9211694|\n",
      "| 58342|LEONE INTERNATION...|35.9852771| -78.898944|\n",
      "| 57278|  PIZZA HUT DELIVERY|36.0586094|-78.9279599|\n",
      "| 57190|       CHUBBYS TACOS|36.0094173|-78.9218729|\n",
      "| 57585|              SUBWAY| 36.018111|-78.9102149|\n",
      "|178137|DUKE UNIVERSITY W...| 36.001517|-78.9391734|\n",
      "|181419|DICKEYS BARBECUE PIT|35.9550003|-78.9931015|\n",
      "|179950|DUKE UNIVERSITY/T...|35.9950533|-78.9447645|\n",
      "| 57048|                 KFC|36.0507859|-78.9044701|\n",
      "|179953|DUKE UNIVERSITY/T...|35.9950533|-78.9447645|\n",
      "|180462|TRIDENT PROVISION...|35.9953688|-78.9417564|\n",
      "|188410|PURDUE PHARMA MAN...|36.1027227|-78.8482093|\n",
      "|178997|FRESH DESIRES CAT...|35.9965963|-78.9158568|\n",
      "|179334|             ZWELI'S|35.9965963|-78.9158568|\n",
      "| 58147|CEDARS OF CHAPEL ...|35.9094306|-79.0070942|\n",
      "|189532|              MEKONG|35.9205016|-78.8108783|\n",
      "+------+--------------------+----------+-----------+\n",
      "only showing top 20 rows\n",
      "\n"
     ]
    }
   ],
   "source": [
    "restaurants_3.show()"
   ]
  },
  {
   "cell_type": "code",
   "execution_count": 754,
   "id": "573dde68",
   "metadata": {},
   "outputs": [],
   "source": [
    "import math\n",
    "from pyspark.sql.types import DoubleType\n",
    "from haversine import haversine\n",
    "\n",
    "def haversine_dist(lat1, lon1, lat2, lon2):\n",
    "    \n",
    "    print(lat1, lat2, lon1, lon2)\n",
    "    \n",
    "    lat1 = math.radians(lat1)\n",
    "    lat2 = math.radians(lat2)\n",
    "    lon1 = math.radians(lon1)\n",
    "    lon2 = math.radians(lon2)\n",
    "    \n",
    "    R = 3959  # radius of the earth in miles\n",
    "    dlat = lat2 - lat1\n",
    "    dlon = lon2 - lon1\n",
    "    a = sin(dlat/2)**2 + cos(lat1) * cos(lat2) * sin(dlon/2)**2\n",
    "    c = 2 * atan2(sqrt(a), sqrt(1-a))\n",
    "    return R * c"
   ]
  },
  {
   "cell_type": "code",
   "execution_count": 755,
   "id": "8713aeb9",
   "metadata": {},
   "outputs": [],
   "source": [
    "from pyspark.sql.functions import udf, radians\n",
    "distance_udf = udf(haversine_dist, DoubleType())"
   ]
  },
  {
   "cell_type": "code",
   "execution_count": 756,
   "id": "657e3ce8",
   "metadata": {},
   "outputs": [],
   "source": [
    "joined_df = foreclosures_2.crossJoin(restaurants_3)"
   ]
  },
  {
   "cell_type": "code",
   "execution_count": 757,
   "id": "3c58a332",
   "metadata": {},
   "outputs": [
    {
     "name": "stdout",
     "output_type": "stream",
     "text": [
      "+----------+-----------+------+--------------------+----------+-----------+\n",
      "|      lat1|       lon1|    ID|        Premise_Name|      lat2|       lon2|\n",
      "+----------+-----------+------+--------------------+----------+-----------+\n",
      "|36.0013755|-78.8922549| 56060|    WEST 94TH ST PUB|35.9207272|-78.9573299|\n",
      "|36.0013755|-78.8922549| 58123|BROOKDALE DURHAM IFS|36.0467802|-78.8895483|\n",
      "|36.0013755|-78.8922549| 70266|       SMOOTHIE KING|35.9182655|-78.9593263|\n",
      "|36.0013755|-78.8922549| 97837|HAMPTON INN & SUITES|36.0183378|-78.9060312|\n",
      "|36.0013755|-78.8922549| 58349|KROGER R 381 MEAT...|35.9495321|-78.9211694|\n",
      "|36.0013755|-78.8922549| 58342|LEONE INTERNATION...|35.9852771| -78.898944|\n",
      "|36.0013755|-78.8922549| 57278|  PIZZA HUT DELIVERY|36.0586094|-78.9279599|\n",
      "|36.0013755|-78.8922549| 57190|       CHUBBYS TACOS|36.0094173|-78.9218729|\n",
      "|36.0013755|-78.8922549| 57585|              SUBWAY| 36.018111|-78.9102149|\n",
      "|36.0013755|-78.8922549|178137|DUKE UNIVERSITY W...| 36.001517|-78.9391734|\n",
      "|36.0013755|-78.8922549|181419|DICKEYS BARBECUE PIT|35.9550003|-78.9931015|\n",
      "|36.0013755|-78.8922549|179950|DUKE UNIVERSITY/T...|35.9950533|-78.9447645|\n",
      "|36.0013755|-78.8922549| 57048|                 KFC|36.0507859|-78.9044701|\n",
      "|36.0013755|-78.8922549|179953|DUKE UNIVERSITY/T...|35.9950533|-78.9447645|\n",
      "|36.0013755|-78.8922549|180462|TRIDENT PROVISION...|35.9953688|-78.9417564|\n",
      "|36.0013755|-78.8922549|188410|PURDUE PHARMA MAN...|36.1027227|-78.8482093|\n",
      "|36.0013755|-78.8922549|178997|FRESH DESIRES CAT...|35.9965963|-78.9158568|\n",
      "|36.0013755|-78.8922549|179334|             ZWELI'S|35.9965963|-78.9158568|\n",
      "|36.0013755|-78.8922549| 58147|CEDARS OF CHAPEL ...|35.9094306|-79.0070942|\n",
      "|36.0013755|-78.8922549|189532|              MEKONG|35.9205016|-78.8108783|\n",
      "+----------+-----------+------+--------------------+----------+-----------+\n",
      "only showing top 20 rows\n",
      "\n"
     ]
    }
   ],
   "source": [
    "joined_df.show()"
   ]
  },
  {
   "cell_type": "code",
   "execution_count": 758,
   "id": "7b07e4d7",
   "metadata": {},
   "outputs": [],
   "source": [
    "joined_df = joined_df.dropna(subset=['lat1', 'lon1', 'lat2', 'lon2'])"
   ]
  },
  {
   "cell_type": "code",
   "execution_count": 759,
   "id": "909f54fd",
   "metadata": {},
   "outputs": [
    {
     "data": {
      "text/plain": [
       "2114838"
      ]
     },
     "execution_count": 759,
     "metadata": {},
     "output_type": "execute_result"
    }
   ],
   "source": [
    "joined_df.count()"
   ]
  },
  {
   "cell_type": "code",
   "execution_count": 787,
   "id": "635ef275",
   "metadata": {},
   "outputs": [],
   "source": [
    "result_df = joined_df.withColumn(\"distance\", distance_udf(col(\"lat1\"), \n",
    "                                                          col(\"lon1\"), \n",
    "                                                          col(\"lat2\"), \n",
    "                                                          col(\"lon2\")))"
   ]
  },
  {
   "cell_type": "code",
   "execution_count": 788,
   "id": "7608a787",
   "metadata": {},
   "outputs": [
    {
     "name": "stdout",
     "output_type": "stream",
     "text": [
      "+----------+-----------+------+------------------------------------------+----------+-----------+------------------+\n",
      "|lat1      |lon1       |ID    |Premise_Name                              |lat2      |lon2       |distance          |\n",
      "+----------+-----------+------+------------------------------------------+----------+-----------+------------------+\n",
      "|36.0013755|-78.8922549|56060 |WEST 94TH ST PUB                          |35.9207272|-78.9573299|6.655847169459578 |\n",
      "|36.0013755|-78.8922549|58123 |BROOKDALE DURHAM IFS                      |36.0467802|-78.8895483|3.1409991184235353|\n",
      "|36.0013755|-78.8922549|70266 |SMOOTHIE KING                             |35.9182655|-78.9593263|6.859349085002129 |\n",
      "|36.0013755|-78.8922549|97837 |HAMPTON INN & SUITES                      |36.0183378|-78.9060312|1.4023667770503383|\n",
      "|36.0013755|-78.8922549|58349 |KROGER R 381 MEAT MARKET                  |35.9495321|-78.9211694|3.930237197275593 |\n",
      "|36.0013755|-78.8922549|58342 |LEONE INTERNATIONAL GROCERY/MEAT MARKET   |35.9852771|-78.898944 |1.1735382285674743|\n",
      "|36.0013755|-78.8922549|57278 |PIZZA HUT DELIVERY                        |36.0586094|-78.9279599|4.4295176792183755|\n",
      "|36.0013755|-78.8922549|57190 |CHUBBYS TACOS                             |36.0094173|-78.9218729|1.7463295863153325|\n",
      "|36.0013755|-78.8922549|57585 |SUBWAY                                    |36.018111 |-78.9102149|1.5313248566855535|\n",
      "|36.0013755|-78.8922549|178137|DUKE UNIVERSITY WEST UNION FARMSTEAD      |36.001517 |-78.9391734|2.622766825093706 |\n",
      "|36.0013755|-78.8922549|181419|DICKEYS BARBECUE PIT                      |35.9550003|-78.9931015|6.485873013986379 |\n",
      "|36.0013755|-78.8922549|179950|DUKE UNIVERSITY/TRIDENT PROVISIONS LEVEL 1|35.9950533|-78.9447645|2.967739861384455 |\n",
      "|36.0013755|-78.8922549|57048 |KFC                                       |36.0507859|-78.9044701|3.4817113346319997|\n",
      "|36.0013755|-78.8922549|179953|DUKE UNIVERSITY/TRIDENT PROVISIONS LEVEL 3|35.9950533|-78.9447645|2.967739861384455 |\n",
      "|36.0013755|-78.8922549|180462|TRIDENT PROVISIONS  4TH FLOOR PANTRY      |35.9953688|-78.9417564|2.7981990476342333|\n",
      "|36.0013755|-78.8922549|188410|PURDUE PHARMA MANUFACTURING LP            |36.1027227|-78.8482093|7.422551772896147 |\n",
      "|36.0013755|-78.8922549|178997|FRESH DESIRES CATERING LLC                |35.9965963|-78.9158568|1.3600888211587465|\n",
      "|36.0013755|-78.8922549|179334|ZWELI'S                                   |35.9965963|-78.9158568|1.3600888211587465|\n",
      "|36.0013755|-78.8922549|58147 |CEDARS OF CHAPEL HILL IFS                 |35.9094306|-79.0070942|9.034445059826856 |\n",
      "|36.0013755|-78.8922549|189532|MEKONG                                    |35.9205016|-78.8108783|7.207090929721104 |\n",
      "+----------+-----------+------+------------------------------------------+----------+-----------+------------------+\n",
      "only showing top 20 rows\n",
      "\n"
     ]
    }
   ],
   "source": [
    "result_df.show(truncate=False)"
   ]
  },
  {
   "cell_type": "code",
   "execution_count": 789,
   "id": "4e7363b3",
   "metadata": {},
   "outputs": [],
   "source": [
    "result_df = result_df.filter(col(\"distance\")<=10.0)"
   ]
  },
  {
   "cell_type": "code",
   "execution_count": 790,
   "id": "81473351",
   "metadata": {},
   "outputs": [
    {
     "name": "stdout",
     "output_type": "stream",
     "text": [
      "+----------+-----------+------+--------------------+----------+-----------+------------------+\n",
      "|      lat1|       lon1|    ID|        Premise_Name|      lat2|       lon2|          distance|\n",
      "+----------+-----------+------+--------------------+----------+-----------+------------------+\n",
      "|36.0013755|-78.8922549| 56060|    WEST 94TH ST PUB|35.9207272|-78.9573299| 6.655847169459578|\n",
      "|36.0013755|-78.8922549| 58123|BROOKDALE DURHAM IFS|36.0467802|-78.8895483|3.1409991184235353|\n",
      "|36.0013755|-78.8922549| 70266|       SMOOTHIE KING|35.9182655|-78.9593263| 6.859349085002129|\n",
      "|36.0013755|-78.8922549| 97837|HAMPTON INN & SUITES|36.0183378|-78.9060312|1.4023667770503383|\n",
      "|36.0013755|-78.8922549| 58349|KROGER R 381 MEAT...|35.9495321|-78.9211694| 3.930237197275593|\n",
      "|36.0013755|-78.8922549| 58342|LEONE INTERNATION...|35.9852771| -78.898944|1.1735382285674743|\n",
      "|36.0013755|-78.8922549| 57278|  PIZZA HUT DELIVERY|36.0586094|-78.9279599|4.4295176792183755|\n",
      "|36.0013755|-78.8922549| 57190|       CHUBBYS TACOS|36.0094173|-78.9218729|1.7463295863153325|\n",
      "|36.0013755|-78.8922549| 57585|              SUBWAY| 36.018111|-78.9102149|1.5313248566855535|\n",
      "|36.0013755|-78.8922549|178137|DUKE UNIVERSITY W...| 36.001517|-78.9391734| 2.622766825093706|\n",
      "|36.0013755|-78.8922549|181419|DICKEYS BARBECUE PIT|35.9550003|-78.9931015| 6.485873013986379|\n",
      "|36.0013755|-78.8922549|179950|DUKE UNIVERSITY/T...|35.9950533|-78.9447645| 2.967739861384455|\n",
      "|36.0013755|-78.8922549| 57048|                 KFC|36.0507859|-78.9044701|3.4817113346319997|\n",
      "|36.0013755|-78.8922549|179953|DUKE UNIVERSITY/T...|35.9950533|-78.9447645| 2.967739861384455|\n",
      "|36.0013755|-78.8922549|180462|TRIDENT PROVISION...|35.9953688|-78.9417564|2.7981990476342333|\n",
      "|36.0013755|-78.8922549|188410|PURDUE PHARMA MAN...|36.1027227|-78.8482093| 7.422551772896147|\n",
      "|36.0013755|-78.8922549|178997|FRESH DESIRES CAT...|35.9965963|-78.9158568|1.3600888211587465|\n",
      "|36.0013755|-78.8922549|179334|             ZWELI'S|35.9965963|-78.9158568|1.3600888211587465|\n",
      "|36.0013755|-78.8922549| 58147|CEDARS OF CHAPEL ...|35.9094306|-79.0070942| 9.034445059826856|\n",
      "|36.0013755|-78.8922549|189532|              MEKONG|35.9205016|-78.8108783| 7.207090929721104|\n",
      "+----------+-----------+------+--------------------+----------+-----------+------------------+\n",
      "only showing top 20 rows\n",
      "\n"
     ]
    }
   ],
   "source": [
    "result_df.show()"
   ]
  },
  {
   "cell_type": "markdown",
   "id": "d8bde233",
   "metadata": {},
   "source": [
    "### Answer to Question 5"
   ]
  },
  {
   "cell_type": "code",
   "execution_count": 791,
   "id": "b1401175",
   "metadata": {},
   "outputs": [
    {
     "name": "stderr",
     "output_type": "stream",
     "text": [
      "[Stage 859:>                                                        (0 + 1) / 1]\r"
     ]
    },
    {
     "name": "stdout",
     "output_type": "stream",
     "text": [
      "+------+--------------------+-----+\n",
      "|    ID|        Premise_Name|count|\n",
      "+------+--------------------+-----+\n",
      "|152896|BLUE RIDGE DELI A...| 1827|\n",
      "|106532|    BURGER KING 9653| 1691|\n",
      "| 87764|DURHAM CONVENTION...| 1912|\n",
      "|178383|SWEETIES SOUTHERN...| 1905|\n",
      "| 56150|HOME PLATE RESTAU...| 1837|\n",
      "| 98198|LA REGIA DOMINICA...| 1838|\n",
      "| 58124|CARVER LIVING CEN...| 1881|\n",
      "| 58126|ENO POINTE ASSIST...| 1745|\n",
      "| 56102|TOP'S CHINA RESTA...| 1904|\n",
      "| 55702|SHERATON IMPERIAL...| 1530|\n",
      "| 56677|         CAPTAIN D S| 1718|\n",
      "| 70783|RUTH'S CHRIS STEA...| 1654|\n",
      "| 60441|   NOODLES & COMPANY| 1904|\n",
      "| 56752|             Q SHACK| 1900|\n",
      "| 58066|DURHAM SCHOOL OF ...| 1905|\n",
      "| 55519| DEVINE'S RESTAURANT| 1909|\n",
      "|174146|          BEYU CAFFE| 1912|\n",
      "| 80343|HOMEWOOD SUITES R...| 1597|\n",
      "| 58138|KINDRED HEALTH CA...| 1874|\n",
      "|168435|ALOFT DURHAM DOWN...| 1912|\n",
      "+------+--------------------+-----+\n",
      "only showing top 20 rows\n",
      "\n"
     ]
    },
    {
     "name": "stderr",
     "output_type": "stream",
     "text": [
      "                                                                                \r"
     ]
    }
   ],
   "source": [
    "result_df = result_df.groupBy(\"ID\", \"Premise_Name\").count()\n",
    "result_df.show()"
   ]
  },
  {
   "cell_type": "code",
   "execution_count": 792,
   "id": "00fa8a59",
   "metadata": {},
   "outputs": [],
   "source": [
    "result_df = result_df.withColumnRenamed(\"count\", \"Foreclosures within 10 miles\")"
   ]
  },
  {
   "cell_type": "code",
   "execution_count": 793,
   "id": "27f679f4",
   "metadata": {},
   "outputs": [
    {
     "name": "stderr",
     "output_type": "stream",
     "text": [
      "[Stage 863:>                                                        (0 + 1) / 1]\r"
     ]
    },
    {
     "name": "stdout",
     "output_type": "stream",
     "text": [
      "+------+------------------------------------------+----------------------------+\n",
      "|ID    |Premise_Name                              |Foreclosures within 10 miles|\n",
      "+------+------------------------------------------+----------------------------+\n",
      "|152896|BLUE RIDGE DELI AND CAFE                  |1827                        |\n",
      "|106532|BURGER KING 9653                          |1691                        |\n",
      "|87764 |DURHAM CONVENTION CENTER                  |1912                        |\n",
      "|178383|SWEETIES SOUTHERN &VEGAN CATERING         |1905                        |\n",
      "|56150 |HOME PLATE RESTAURANT                     |1837                        |\n",
      "|98198 |LA REGIA DOMINICAN MEXICAN REST & GRILL 55|1838                        |\n",
      "|58124 |CARVER LIVING CENTER IFS                  |1881                        |\n",
      "|58126 |ENO POINTE ASSISTED LIVING IFS            |1745                        |\n",
      "|56102 |TOP'S CHINA RESTAURANT                    |1904                        |\n",
      "|55702 |SHERATON IMPERIAL HOTEL                   |1530                        |\n",
      "|56677 |CAPTAIN D S                               |1718                        |\n",
      "|70783 |RUTH'S CHRIS STEAK HOUSE                  |1654                        |\n",
      "|60441 |NOODLES & COMPANY                         |1904                        |\n",
      "|56752 |Q SHACK                                   |1900                        |\n",
      "|58066 |DURHAM SCHOOL OF THE ARTS                 |1905                        |\n",
      "|55519 |DEVINE'S RESTAURANT                       |1909                        |\n",
      "|174146|BEYU CAFFE                                |1912                        |\n",
      "|80343 |HOMEWOOD SUITES RDU FOOD SERVICE          |1597                        |\n",
      "|58138 |KINDRED HEALTH CARE-ROSE MANOR FS         |1874                        |\n",
      "|168435|ALOFT DURHAM DOWNTOWN FOOD SERVICE        |1912                        |\n",
      "+------+------------------------------------------+----------------------------+\n",
      "only showing top 20 rows\n",
      "\n"
     ]
    },
    {
     "name": "stderr",
     "output_type": "stream",
     "text": [
      "                                                                                \r"
     ]
    }
   ],
   "source": [
    "result_df.show(truncate=False)"
   ]
  },
  {
   "cell_type": "code",
   "execution_count": null,
   "id": "67447775",
   "metadata": {},
   "outputs": [],
   "source": []
  }
 ],
 "metadata": {
  "kernelspec": {
   "display_name": "Python 3 (ipykernel)",
   "language": "python",
   "name": "python3"
  },
  "language_info": {
   "codemirror_mode": {
    "name": "ipython",
    "version": 3
   },
   "file_extension": ".py",
   "mimetype": "text/x-python",
   "name": "python",
   "nbconvert_exporter": "python",
   "pygments_lexer": "ipython3",
   "version": "3.8.13"
  }
 },
 "nbformat": 4,
 "nbformat_minor": 5
}
